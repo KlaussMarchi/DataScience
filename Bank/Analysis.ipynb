{
 "cells": [
  {
   "cell_type": "code",
   "execution_count": 172,
   "metadata": {},
   "outputs": [],
   "source": [
    "import pandas as pd\n",
    "import matplotlib.pyplot as plt\n",
    "import numpy as np\n",
    "import os"
   ]
  },
  {
   "cell_type": "code",
   "execution_count": 173,
   "metadata": {},
   "outputs": [
    {
     "data": {
      "text/plain": [
       "['target\\\\janeiro.csv',\n",
       " 'target\\\\NU_362118765_01ABR2024_30ABR2024.csv',\n",
       " 'target\\\\NU_362118765_01AGO2024_31AGO2024.csv',\n",
       " 'target\\\\NU_362118765_01DEZ2024_26DEZ2024.csv',\n",
       " 'target\\\\NU_362118765_01FEV2024_29FEV2024.csv',\n",
       " 'target\\\\NU_362118765_01JUN2024_30JUN2024.csv',\n",
       " 'target\\\\NU_362118765_01MAI2024_31MAI2024.csv',\n",
       " 'target\\\\NU_362118765_01MAR2024_31MAR2024.csv',\n",
       " 'target\\\\NU_362118765_01NOV2024_30NOV2024.csv',\n",
       " 'target\\\\NU_362118765_01OUT2024_31OUT2024.csv',\n",
       " 'target\\\\NU_362118765_01SET2024_30SET2024.csv']"
      ]
     },
     "execution_count": 173,
     "metadata": {},
     "output_type": "execute_result"
    }
   ],
   "source": [
    "def getAllFiles(baseDir):\n",
    "    files = []\n",
    "    \n",
    "    for file in os.listdir(baseDir):\n",
    "        filePath = os.path.join(baseDir, file)\n",
    "        files.append(filePath)\n",
    "\n",
    "    return files\n",
    "\n",
    "\n",
    "getAllFiles('target')"
   ]
  },
  {
   "cell_type": "code",
   "execution_count": 174,
   "metadata": {},
   "outputs": [
    {
     "name": "stdout",
     "output_type": "stream",
     "text": [
      "<class 'pandas.core.frame.DataFrame'>\n",
      "Index: 112 entries, 0 to 28\n",
      "Data columns (total 4 columns):\n",
      " #   Column         Non-Null Count  Dtype  \n",
      "---  ------         --------------  -----  \n",
      " 0   Data           112 non-null    object \n",
      " 1   Valor          112 non-null    float64\n",
      " 2   Identificador  112 non-null    object \n",
      " 3   Descrição      112 non-null    object \n",
      "dtypes: float64(1), object(3)\n",
      "memory usage: 4.4+ KB\n"
     ]
    },
    {
     "data": {
      "text/plain": [
       "None"
      ]
     },
     "metadata": {},
     "output_type": "display_data"
    },
    {
     "data": {
      "text/html": [
       "<div>\n",
       "<style scoped>\n",
       "    .dataframe tbody tr th:only-of-type {\n",
       "        vertical-align: middle;\n",
       "    }\n",
       "\n",
       "    .dataframe tbody tr th {\n",
       "        vertical-align: top;\n",
       "    }\n",
       "\n",
       "    .dataframe thead th {\n",
       "        text-align: right;\n",
       "    }\n",
       "</style>\n",
       "<table border=\"1\" class=\"dataframe\">\n",
       "  <thead>\n",
       "    <tr style=\"text-align: right;\">\n",
       "      <th></th>\n",
       "      <th>Data</th>\n",
       "      <th>Valor</th>\n",
       "      <th>Identificador</th>\n",
       "      <th>Descrição</th>\n",
       "    </tr>\n",
       "  </thead>\n",
       "  <tbody>\n",
       "    <tr>\n",
       "      <th>0</th>\n",
       "      <td>13/01/2024</td>\n",
       "      <td>-18.0</td>\n",
       "      <td>65a2bbfc-42e5-44ba-b623-76a843097ae7</td>\n",
       "      <td>Compra no débito - Vr Bbs Restaurante</td>\n",
       "    </tr>\n",
       "    <tr>\n",
       "      <th>1</th>\n",
       "      <td>30/01/2024</td>\n",
       "      <td>50.0</td>\n",
       "      <td>65b936b5-c077-4689-803e-a15cbed3babe</td>\n",
       "      <td>Transferência recebida pelo Pix - RAFAEL TARGA...</td>\n",
       "    </tr>\n",
       "    <tr>\n",
       "      <th>2</th>\n",
       "      <td>31/01/2024</td>\n",
       "      <td>40.0</td>\n",
       "      <td>65ba5e8d-6c53-4765-8077-13047da5f87a</td>\n",
       "      <td>Transferência recebida pelo Pix - RAFAEL TARGA...</td>\n",
       "    </tr>\n",
       "    <tr>\n",
       "      <th>0</th>\n",
       "      <td>29/04/2024</td>\n",
       "      <td>-1000.0</td>\n",
       "      <td>66303e2d-16f7-465a-b251-7b8e97539798</td>\n",
       "      <td>Transferência enviada pelo Pix - Matteus Arauj...</td>\n",
       "    </tr>\n",
       "    <tr>\n",
       "      <th>1</th>\n",
       "      <td>29/04/2024</td>\n",
       "      <td>-500.0</td>\n",
       "      <td>66303f4a-ee9d-4af3-a9e5-cf07820d1750</td>\n",
       "      <td>Transferência enviada pelo Pix - Matteus Arauj...</td>\n",
       "    </tr>\n",
       "    <tr>\n",
       "      <th>...</th>\n",
       "      <td>...</td>\n",
       "      <td>...</td>\n",
       "      <td>...</td>\n",
       "      <td>...</td>\n",
       "    </tr>\n",
       "    <tr>\n",
       "      <th>24</th>\n",
       "      <td>23/09/2024</td>\n",
       "      <td>60.0</td>\n",
       "      <td>66f1d331-3dc1-439b-9af7-2d344b19c958</td>\n",
       "      <td>Transferência recebida pelo Pix - KLAUSS MIRAN...</td>\n",
       "    </tr>\n",
       "    <tr>\n",
       "      <th>25</th>\n",
       "      <td>25/09/2024</td>\n",
       "      <td>120.0</td>\n",
       "      <td>66f4141d-8d38-49dc-8ac9-053589258df0</td>\n",
       "      <td>Transferência recebida pelo Pix - JHONATA ANUN...</td>\n",
       "    </tr>\n",
       "    <tr>\n",
       "      <th>26</th>\n",
       "      <td>25/09/2024</td>\n",
       "      <td>60.0</td>\n",
       "      <td>66f416d5-34d1-4de9-b8ed-2b40f6623695</td>\n",
       "      <td>Transferência Recebida - Jenyfer Nunes da Silv...</td>\n",
       "    </tr>\n",
       "    <tr>\n",
       "      <th>27</th>\n",
       "      <td>27/09/2024</td>\n",
       "      <td>60.0</td>\n",
       "      <td>66f7239a-b72b-40c2-97b0-12b91664cb67</td>\n",
       "      <td>Transferência Recebida - Stefanie dos Santos S...</td>\n",
       "    </tr>\n",
       "    <tr>\n",
       "      <th>28</th>\n",
       "      <td>30/09/2024</td>\n",
       "      <td>50.0</td>\n",
       "      <td>66fb1eaf-f39d-47a7-af8f-ef4c2faec43b</td>\n",
       "      <td>Transferência Recebida - Laércio Davi Ferst - ...</td>\n",
       "    </tr>\n",
       "  </tbody>\n",
       "</table>\n",
       "<p>112 rows × 4 columns</p>\n",
       "</div>"
      ],
      "text/plain": [
       "          Data   Valor                         Identificador  \\\n",
       "0   13/01/2024   -18.0  65a2bbfc-42e5-44ba-b623-76a843097ae7   \n",
       "1   30/01/2024    50.0  65b936b5-c077-4689-803e-a15cbed3babe   \n",
       "2   31/01/2024    40.0  65ba5e8d-6c53-4765-8077-13047da5f87a   \n",
       "0   29/04/2024 -1000.0  66303e2d-16f7-465a-b251-7b8e97539798   \n",
       "1   29/04/2024  -500.0  66303f4a-ee9d-4af3-a9e5-cf07820d1750   \n",
       "..         ...     ...                                   ...   \n",
       "24  23/09/2024    60.0  66f1d331-3dc1-439b-9af7-2d344b19c958   \n",
       "25  25/09/2024   120.0  66f4141d-8d38-49dc-8ac9-053589258df0   \n",
       "26  25/09/2024    60.0  66f416d5-34d1-4de9-b8ed-2b40f6623695   \n",
       "27  27/09/2024    60.0  66f7239a-b72b-40c2-97b0-12b91664cb67   \n",
       "28  30/09/2024    50.0  66fb1eaf-f39d-47a7-af8f-ef4c2faec43b   \n",
       "\n",
       "                                            Descrição  \n",
       "0               Compra no débito - Vr Bbs Restaurante  \n",
       "1   Transferência recebida pelo Pix - RAFAEL TARGA...  \n",
       "2   Transferência recebida pelo Pix - RAFAEL TARGA...  \n",
       "0   Transferência enviada pelo Pix - Matteus Arauj...  \n",
       "1   Transferência enviada pelo Pix - Matteus Arauj...  \n",
       "..                                                ...  \n",
       "24  Transferência recebida pelo Pix - KLAUSS MIRAN...  \n",
       "25  Transferência recebida pelo Pix - JHONATA ANUN...  \n",
       "26  Transferência Recebida - Jenyfer Nunes da Silv...  \n",
       "27  Transferência Recebida - Stefanie dos Santos S...  \n",
       "28  Transferência Recebida - Laércio Davi Ferst - ...  \n",
       "\n",
       "[112 rows x 4 columns]"
      ]
     },
     "execution_count": 174,
     "metadata": {},
     "output_type": "execute_result"
    }
   ],
   "source": [
    "df = pd.DataFrame()\n",
    "\n",
    "for file in getAllFiles('target'):\n",
    "    new = pd.read_csv(file)\n",
    "    df = pd.concat([df, new])\n",
    "\n",
    "display(df.info())\n",
    "df"
   ]
  },
  {
   "cell_type": "code",
   "execution_count": 175,
   "metadata": {},
   "outputs": [
    {
     "data": {
      "text/html": [
       "<div>\n",
       "<style scoped>\n",
       "    .dataframe tbody tr th:only-of-type {\n",
       "        vertical-align: middle;\n",
       "    }\n",
       "\n",
       "    .dataframe tbody tr th {\n",
       "        vertical-align: top;\n",
       "    }\n",
       "\n",
       "    .dataframe thead th {\n",
       "        text-align: right;\n",
       "    }\n",
       "</style>\n",
       "<table border=\"1\" class=\"dataframe\">\n",
       "  <thead>\n",
       "    <tr style=\"text-align: right;\">\n",
       "      <th></th>\n",
       "      <th>Data</th>\n",
       "      <th>Valor</th>\n",
       "      <th>Identificador</th>\n",
       "      <th>Descrição</th>\n",
       "      <th>date</th>\n",
       "    </tr>\n",
       "  </thead>\n",
       "  <tbody>\n",
       "    <tr>\n",
       "      <th>0</th>\n",
       "      <td>13/01/2024</td>\n",
       "      <td>-18.0</td>\n",
       "      <td>65a2bbfc-42e5-44ba-b623-76a843097ae7</td>\n",
       "      <td>Compra no débito - Vr Bbs Restaurante</td>\n",
       "      <td>2024-01-13</td>\n",
       "    </tr>\n",
       "    <tr>\n",
       "      <th>1</th>\n",
       "      <td>30/01/2024</td>\n",
       "      <td>50.0</td>\n",
       "      <td>65b936b5-c077-4689-803e-a15cbed3babe</td>\n",
       "      <td>Transferência recebida pelo Pix - RAFAEL TARGA...</td>\n",
       "      <td>2024-01-30</td>\n",
       "    </tr>\n",
       "    <tr>\n",
       "      <th>2</th>\n",
       "      <td>31/01/2024</td>\n",
       "      <td>40.0</td>\n",
       "      <td>65ba5e8d-6c53-4765-8077-13047da5f87a</td>\n",
       "      <td>Transferência recebida pelo Pix - RAFAEL TARGA...</td>\n",
       "      <td>2024-01-31</td>\n",
       "    </tr>\n",
       "    <tr>\n",
       "      <th>0</th>\n",
       "      <td>29/04/2024</td>\n",
       "      <td>-1000.0</td>\n",
       "      <td>66303e2d-16f7-465a-b251-7b8e97539798</td>\n",
       "      <td>Transferência enviada pelo Pix - Matteus Arauj...</td>\n",
       "      <td>2024-04-29</td>\n",
       "    </tr>\n",
       "    <tr>\n",
       "      <th>1</th>\n",
       "      <td>29/04/2024</td>\n",
       "      <td>-500.0</td>\n",
       "      <td>66303f4a-ee9d-4af3-a9e5-cf07820d1750</td>\n",
       "      <td>Transferência enviada pelo Pix - Matteus Arauj...</td>\n",
       "      <td>2024-04-29</td>\n",
       "    </tr>\n",
       "  </tbody>\n",
       "</table>\n",
       "</div>"
      ],
      "text/plain": [
       "         Data   Valor                         Identificador  \\\n",
       "0  13/01/2024   -18.0  65a2bbfc-42e5-44ba-b623-76a843097ae7   \n",
       "1  30/01/2024    50.0  65b936b5-c077-4689-803e-a15cbed3babe   \n",
       "2  31/01/2024    40.0  65ba5e8d-6c53-4765-8077-13047da5f87a   \n",
       "0  29/04/2024 -1000.0  66303e2d-16f7-465a-b251-7b8e97539798   \n",
       "1  29/04/2024  -500.0  66303f4a-ee9d-4af3-a9e5-cf07820d1750   \n",
       "\n",
       "                                           Descrição       date  \n",
       "0              Compra no débito - Vr Bbs Restaurante 2024-01-13  \n",
       "1  Transferência recebida pelo Pix - RAFAEL TARGA... 2024-01-30  \n",
       "2  Transferência recebida pelo Pix - RAFAEL TARGA... 2024-01-31  \n",
       "0  Transferência enviada pelo Pix - Matteus Arauj... 2024-04-29  \n",
       "1  Transferência enviada pelo Pix - Matteus Arauj... 2024-04-29  "
      ]
     },
     "execution_count": 175,
     "metadata": {},
     "output_type": "execute_result"
    }
   ],
   "source": [
    "df['date'] = pd.to_datetime(df.Data, errors='coerce', format='%d/%m/%Y')\n",
    "df.head()"
   ]
  },
  {
   "cell_type": "code",
   "execution_count": 176,
   "metadata": {},
   "outputs": [
    {
     "data": {
      "text/html": [
       "<div>\n",
       "<style scoped>\n",
       "    .dataframe tbody tr th:only-of-type {\n",
       "        vertical-align: middle;\n",
       "    }\n",
       "\n",
       "    .dataframe tbody tr th {\n",
       "        vertical-align: top;\n",
       "    }\n",
       "\n",
       "    .dataframe thead th {\n",
       "        text-align: right;\n",
       "    }\n",
       "</style>\n",
       "<table border=\"1\" class=\"dataframe\">\n",
       "  <thead>\n",
       "    <tr style=\"text-align: right;\">\n",
       "      <th></th>\n",
       "      <th>date</th>\n",
       "      <th>value</th>\n",
       "      <th>description</th>\n",
       "    </tr>\n",
       "  </thead>\n",
       "  <tbody>\n",
       "    <tr>\n",
       "      <th>0</th>\n",
       "      <td>2024-01-13</td>\n",
       "      <td>-18.0</td>\n",
       "      <td>Compra no débito - Vr Bbs Restaurante</td>\n",
       "    </tr>\n",
       "    <tr>\n",
       "      <th>1</th>\n",
       "      <td>2024-01-30</td>\n",
       "      <td>50.0</td>\n",
       "      <td>Transferência recebida pelo Pix - RAFAEL TARGA...</td>\n",
       "    </tr>\n",
       "    <tr>\n",
       "      <th>2</th>\n",
       "      <td>2024-01-31</td>\n",
       "      <td>40.0</td>\n",
       "      <td>Transferência recebida pelo Pix - RAFAEL TARGA...</td>\n",
       "    </tr>\n",
       "    <tr>\n",
       "      <th>0</th>\n",
       "      <td>2024-04-29</td>\n",
       "      <td>-1000.0</td>\n",
       "      <td>Transferência enviada pelo Pix - Matteus Arauj...</td>\n",
       "    </tr>\n",
       "    <tr>\n",
       "      <th>1</th>\n",
       "      <td>2024-04-29</td>\n",
       "      <td>-500.0</td>\n",
       "      <td>Transferência enviada pelo Pix - Matteus Arauj...</td>\n",
       "    </tr>\n",
       "    <tr>\n",
       "      <th>...</th>\n",
       "      <td>...</td>\n",
       "      <td>...</td>\n",
       "      <td>...</td>\n",
       "    </tr>\n",
       "    <tr>\n",
       "      <th>24</th>\n",
       "      <td>2024-09-23</td>\n",
       "      <td>60.0</td>\n",
       "      <td>Transferência recebida pelo Pix - KLAUSS MIRAN...</td>\n",
       "    </tr>\n",
       "    <tr>\n",
       "      <th>25</th>\n",
       "      <td>2024-09-25</td>\n",
       "      <td>120.0</td>\n",
       "      <td>Transferência recebida pelo Pix - JHONATA ANUN...</td>\n",
       "    </tr>\n",
       "    <tr>\n",
       "      <th>26</th>\n",
       "      <td>2024-09-25</td>\n",
       "      <td>60.0</td>\n",
       "      <td>Transferência Recebida - Jenyfer Nunes da Silv...</td>\n",
       "    </tr>\n",
       "    <tr>\n",
       "      <th>27</th>\n",
       "      <td>2024-09-27</td>\n",
       "      <td>60.0</td>\n",
       "      <td>Transferência Recebida - Stefanie dos Santos S...</td>\n",
       "    </tr>\n",
       "    <tr>\n",
       "      <th>28</th>\n",
       "      <td>2024-09-30</td>\n",
       "      <td>50.0</td>\n",
       "      <td>Transferência Recebida - Laércio Davi Ferst - ...</td>\n",
       "    </tr>\n",
       "  </tbody>\n",
       "</table>\n",
       "<p>112 rows × 3 columns</p>\n",
       "</div>"
      ],
      "text/plain": [
       "         date   value                                        description\n",
       "0  2024-01-13   -18.0              Compra no débito - Vr Bbs Restaurante\n",
       "1  2024-01-30    50.0  Transferência recebida pelo Pix - RAFAEL TARGA...\n",
       "2  2024-01-31    40.0  Transferência recebida pelo Pix - RAFAEL TARGA...\n",
       "0  2024-04-29 -1000.0  Transferência enviada pelo Pix - Matteus Arauj...\n",
       "1  2024-04-29  -500.0  Transferência enviada pelo Pix - Matteus Arauj...\n",
       "..        ...     ...                                                ...\n",
       "24 2024-09-23    60.0  Transferência recebida pelo Pix - KLAUSS MIRAN...\n",
       "25 2024-09-25   120.0  Transferência recebida pelo Pix - JHONATA ANUN...\n",
       "26 2024-09-25    60.0  Transferência Recebida - Jenyfer Nunes da Silv...\n",
       "27 2024-09-27    60.0  Transferência Recebida - Stefanie dos Santos S...\n",
       "28 2024-09-30    50.0  Transferência Recebida - Laércio Davi Ferst - ...\n",
       "\n",
       "[112 rows x 3 columns]"
      ]
     },
     "execution_count": 176,
     "metadata": {},
     "output_type": "execute_result"
    }
   ],
   "source": [
    "df = df[['date', 'Valor', 'Descrição']]\n",
    "df.columns = ['date', 'value', 'description']\n",
    "df"
   ]
  },
  {
   "cell_type": "markdown",
   "metadata": {},
   "source": [
    "# FILTRANDO"
   ]
  },
  {
   "cell_type": "code",
   "execution_count": 177,
   "metadata": {},
   "outputs": [
    {
     "data": {
      "text/html": [
       "<div>\n",
       "<style scoped>\n",
       "    .dataframe tbody tr th:only-of-type {\n",
       "        vertical-align: middle;\n",
       "    }\n",
       "\n",
       "    .dataframe tbody tr th {\n",
       "        vertical-align: top;\n",
       "    }\n",
       "\n",
       "    .dataframe thead th {\n",
       "        text-align: right;\n",
       "    }\n",
       "</style>\n",
       "<table border=\"1\" class=\"dataframe\">\n",
       "  <thead>\n",
       "    <tr style=\"text-align: right;\">\n",
       "      <th></th>\n",
       "      <th>date</th>\n",
       "      <th>value</th>\n",
       "      <th>description</th>\n",
       "    </tr>\n",
       "  </thead>\n",
       "  <tbody>\n",
       "    <tr>\n",
       "      <th>0</th>\n",
       "      <td>2024-04-29</td>\n",
       "      <td>-1000.0</td>\n",
       "      <td>Transferência enviada pelo Pix - Matteus Arauj...</td>\n",
       "    </tr>\n",
       "    <tr>\n",
       "      <th>1</th>\n",
       "      <td>2024-04-29</td>\n",
       "      <td>-500.0</td>\n",
       "      <td>Transferência enviada pelo Pix - Matteus Arauj...</td>\n",
       "    </tr>\n",
       "  </tbody>\n",
       "</table>\n",
       "</div>"
      ],
      "text/plain": [
       "        date   value                                        description\n",
       "0 2024-04-29 -1000.0  Transferência enviada pelo Pix - Matteus Arauj...\n",
       "1 2024-04-29  -500.0  Transferência enviada pelo Pix - Matteus Arauj..."
      ]
     },
     "execution_count": 177,
     "metadata": {},
     "output_type": "execute_result"
    }
   ],
   "source": [
    "target = df.loc[(df.description.str.lower().str.contains('matteus') & (df.date.dt.month == 4))]\n",
    "target"
   ]
  },
  {
   "cell_type": "code",
   "execution_count": 178,
   "metadata": {},
   "outputs": [
    {
     "data": {
      "text/html": [
       "<div>\n",
       "<style scoped>\n",
       "    .dataframe tbody tr th:only-of-type {\n",
       "        vertical-align: middle;\n",
       "    }\n",
       "\n",
       "    .dataframe tbody tr th {\n",
       "        vertical-align: top;\n",
       "    }\n",
       "\n",
       "    .dataframe thead th {\n",
       "        text-align: right;\n",
       "    }\n",
       "</style>\n",
       "<table border=\"1\" class=\"dataframe\">\n",
       "  <thead>\n",
       "    <tr style=\"text-align: right;\">\n",
       "      <th></th>\n",
       "      <th>date</th>\n",
       "      <th>value</th>\n",
       "      <th>description</th>\n",
       "    </tr>\n",
       "  </thead>\n",
       "  <tbody>\n",
       "    <tr>\n",
       "      <th>0</th>\n",
       "      <td>2024-04-29</td>\n",
       "      <td>-1000.0</td>\n",
       "      <td>Transferência enviada pelo Pix - Matteus Arauj...</td>\n",
       "    </tr>\n",
       "    <tr>\n",
       "      <th>1</th>\n",
       "      <td>2024-04-29</td>\n",
       "      <td>-500.0</td>\n",
       "      <td>Transferência enviada pelo Pix - Matteus Arauj...</td>\n",
       "    </tr>\n",
       "  </tbody>\n",
       "</table>\n",
       "</div>"
      ],
      "text/plain": [
       "        date   value                                        description\n",
       "0 2024-04-29 -1000.0  Transferência enviada pelo Pix - Matteus Arauj...\n",
       "1 2024-04-29  -500.0  Transferência enviada pelo Pix - Matteus Arauj..."
      ]
     },
     "execution_count": 178,
     "metadata": {},
     "output_type": "execute_result"
    }
   ],
   "source": [
    "data = pd.DataFrame()\n",
    "data = pd.concat([data, target])\n",
    "data"
   ]
  },
  {
   "cell_type": "code",
   "execution_count": 179,
   "metadata": {},
   "outputs": [
    {
     "data": {
      "text/html": [
       "<div>\n",
       "<style scoped>\n",
       "    .dataframe tbody tr th:only-of-type {\n",
       "        vertical-align: middle;\n",
       "    }\n",
       "\n",
       "    .dataframe tbody tr th {\n",
       "        vertical-align: top;\n",
       "    }\n",
       "\n",
       "    .dataframe thead th {\n",
       "        text-align: right;\n",
       "    }\n",
       "</style>\n",
       "<table border=\"1\" class=\"dataframe\">\n",
       "  <thead>\n",
       "    <tr style=\"text-align: right;\">\n",
       "      <th></th>\n",
       "      <th>date</th>\n",
       "      <th>value</th>\n",
       "      <th>description</th>\n",
       "    </tr>\n",
       "  </thead>\n",
       "  <tbody>\n",
       "    <tr>\n",
       "      <th>1</th>\n",
       "      <td>2024-08-26</td>\n",
       "      <td>120.0</td>\n",
       "      <td>Transferência Recebida - Lorran Andrade de Fig...</td>\n",
       "    </tr>\n",
       "    <tr>\n",
       "      <th>2</th>\n",
       "      <td>2024-08-26</td>\n",
       "      <td>60.0</td>\n",
       "      <td>Transferência recebida pelo Pix - ARTHUR DOS S...</td>\n",
       "    </tr>\n",
       "    <tr>\n",
       "      <th>3</th>\n",
       "      <td>2024-08-26</td>\n",
       "      <td>60.0</td>\n",
       "      <td>Transferência Recebida - Thiago de Almeida Mar...</td>\n",
       "    </tr>\n",
       "    <tr>\n",
       "      <th>4</th>\n",
       "      <td>2024-08-26</td>\n",
       "      <td>120.0</td>\n",
       "      <td>Transferência Recebida - João Vitor de Oliveir...</td>\n",
       "    </tr>\n",
       "    <tr>\n",
       "      <th>5</th>\n",
       "      <td>2024-08-26</td>\n",
       "      <td>120.0</td>\n",
       "      <td>Transferência recebida pelo Pix - LUCAS ROBERT...</td>\n",
       "    </tr>\n",
       "    <tr>\n",
       "      <th>...</th>\n",
       "      <td>...</td>\n",
       "      <td>...</td>\n",
       "      <td>...</td>\n",
       "    </tr>\n",
       "    <tr>\n",
       "      <th>23</th>\n",
       "      <td>2024-09-23</td>\n",
       "      <td>120.0</td>\n",
       "      <td>Transferência recebida pelo Pix - LEONAN MARCH...</td>\n",
       "    </tr>\n",
       "    <tr>\n",
       "      <th>24</th>\n",
       "      <td>2024-09-23</td>\n",
       "      <td>60.0</td>\n",
       "      <td>Transferência recebida pelo Pix - KLAUSS MIRAN...</td>\n",
       "    </tr>\n",
       "    <tr>\n",
       "      <th>25</th>\n",
       "      <td>2024-09-25</td>\n",
       "      <td>120.0</td>\n",
       "      <td>Transferência recebida pelo Pix - JHONATA ANUN...</td>\n",
       "    </tr>\n",
       "    <tr>\n",
       "      <th>26</th>\n",
       "      <td>2024-09-25</td>\n",
       "      <td>60.0</td>\n",
       "      <td>Transferência Recebida - Jenyfer Nunes da Silv...</td>\n",
       "    </tr>\n",
       "    <tr>\n",
       "      <th>27</th>\n",
       "      <td>2024-09-27</td>\n",
       "      <td>60.0</td>\n",
       "      <td>Transferência Recebida - Stefanie dos Santos S...</td>\n",
       "    </tr>\n",
       "  </tbody>\n",
       "</table>\n",
       "<p>86 rows × 3 columns</p>\n",
       "</div>"
      ],
      "text/plain": [
       "         date  value                                        description\n",
       "1  2024-08-26  120.0  Transferência Recebida - Lorran Andrade de Fig...\n",
       "2  2024-08-26   60.0  Transferência recebida pelo Pix - ARTHUR DOS S...\n",
       "3  2024-08-26   60.0  Transferência Recebida - Thiago de Almeida Mar...\n",
       "4  2024-08-26  120.0  Transferência Recebida - João Vitor de Oliveir...\n",
       "5  2024-08-26  120.0  Transferência recebida pelo Pix - LUCAS ROBERT...\n",
       "..        ...    ...                                                ...\n",
       "23 2024-09-23  120.0  Transferência recebida pelo Pix - LEONAN MARCH...\n",
       "24 2024-09-23   60.0  Transferência recebida pelo Pix - KLAUSS MIRAN...\n",
       "25 2024-09-25  120.0  Transferência recebida pelo Pix - JHONATA ANUN...\n",
       "26 2024-09-25   60.0  Transferência Recebida - Jenyfer Nunes da Silv...\n",
       "27 2024-09-27   60.0  Transferência Recebida - Stefanie dos Santos S...\n",
       "\n",
       "[86 rows x 3 columns]"
      ]
     },
     "execution_count": 179,
     "metadata": {},
     "output_type": "execute_result"
    }
   ],
   "source": [
    "target = df.loc[(df.value % 60 == 0) & (df.date.dt.month > 7)]\n",
    "target"
   ]
  },
  {
   "cell_type": "code",
   "execution_count": 180,
   "metadata": {},
   "outputs": [
    {
     "data": {
      "text/plain": [
       "7320.0"
      ]
     },
     "execution_count": 180,
     "metadata": {},
     "output_type": "execute_result"
    }
   ],
   "source": [
    "R = target.value.sum()\n",
    "R"
   ]
  },
  {
   "cell_type": "code",
   "execution_count": 181,
   "metadata": {},
   "outputs": [
    {
     "data": {
      "text/html": [
       "<div>\n",
       "<style scoped>\n",
       "    .dataframe tbody tr th:only-of-type {\n",
       "        vertical-align: middle;\n",
       "    }\n",
       "\n",
       "    .dataframe tbody tr th {\n",
       "        vertical-align: top;\n",
       "    }\n",
       "\n",
       "    .dataframe thead th {\n",
       "        text-align: right;\n",
       "    }\n",
       "</style>\n",
       "<table border=\"1\" class=\"dataframe\">\n",
       "  <thead>\n",
       "    <tr style=\"text-align: right;\">\n",
       "      <th></th>\n",
       "      <th>date</th>\n",
       "      <th>value</th>\n",
       "      <th>description</th>\n",
       "    </tr>\n",
       "  </thead>\n",
       "  <tbody>\n",
       "    <tr>\n",
       "      <th>39</th>\n",
       "      <td>2024-11-14</td>\n",
       "      <td>-5376.4</td>\n",
       "      <td>Transferência enviada pelo Pix - Elisangela Le...</td>\n",
       "    </tr>\n",
       "  </tbody>\n",
       "</table>\n",
       "</div>"
      ],
      "text/plain": [
       "         date   value                                        description\n",
       "39 2024-11-14 -5376.4  Transferência enviada pelo Pix - Elisangela Le..."
      ]
     },
     "execution_count": 181,
     "metadata": {},
     "output_type": "execute_result"
    }
   ],
   "source": [
    "target = df.loc[abs(df.value) > 4000]\n",
    "target"
   ]
  },
  {
   "cell_type": "code",
   "execution_count": 182,
   "metadata": {},
   "outputs": [
    {
     "data": {
      "text/plain": [
       "5376.4"
      ]
     },
     "execution_count": 182,
     "metadata": {},
     "output_type": "execute_result"
    }
   ],
   "source": [
    "C = abs(target.iloc[0].value)\n",
    "C"
   ]
  },
  {
   "cell_type": "code",
   "execution_count": 183,
   "metadata": {},
   "outputs": [
    {
     "data": {
      "text/plain": [
       "1943.6000000000004"
      ]
     },
     "execution_count": 183,
     "metadata": {},
     "output_type": "execute_result"
    }
   ],
   "source": [
    "L = R - C\n",
    "L"
   ]
  },
  {
   "cell_type": "code",
   "execution_count": 184,
   "metadata": {},
   "outputs": [
    {
     "data": {
      "text/html": [
       "<div>\n",
       "<style scoped>\n",
       "    .dataframe tbody tr th:only-of-type {\n",
       "        vertical-align: middle;\n",
       "    }\n",
       "\n",
       "    .dataframe tbody tr th {\n",
       "        vertical-align: top;\n",
       "    }\n",
       "\n",
       "    .dataframe thead th {\n",
       "        text-align: right;\n",
       "    }\n",
       "</style>\n",
       "<table border=\"1\" class=\"dataframe\">\n",
       "  <thead>\n",
       "    <tr style=\"text-align: right;\">\n",
       "      <th></th>\n",
       "      <th>date</th>\n",
       "      <th>value</th>\n",
       "      <th>description</th>\n",
       "    </tr>\n",
       "  </thead>\n",
       "  <tbody>\n",
       "    <tr>\n",
       "      <th>10</th>\n",
       "      <td>2024-10-18</td>\n",
       "      <td>-490.0</td>\n",
       "      <td>Transferência enviada pelo Pix - TROPICAL GRAF...</td>\n",
       "    </tr>\n",
       "    <tr>\n",
       "      <th>11</th>\n",
       "      <td>2024-10-22</td>\n",
       "      <td>-490.0</td>\n",
       "      <td>Transferência enviada pelo Pix - TROPICAL GRAF...</td>\n",
       "    </tr>\n",
       "  </tbody>\n",
       "</table>\n",
       "</div>"
      ],
      "text/plain": [
       "         date  value                                        description\n",
       "10 2024-10-18 -490.0  Transferência enviada pelo Pix - TROPICAL GRAF...\n",
       "11 2024-10-22 -490.0  Transferência enviada pelo Pix - TROPICAL GRAF..."
      ]
     },
     "execution_count": 184,
     "metadata": {},
     "output_type": "execute_result"
    }
   ],
   "source": [
    "target = df.loc[(df.date.dt.month == 10) * (df.value == -490)]\n",
    "target"
   ]
  },
  {
   "cell_type": "code",
   "execution_count": 185,
   "metadata": {},
   "outputs": [
    {
     "data": {
      "text/plain": [
       "980.0"
      ]
     },
     "execution_count": 185,
     "metadata": {},
     "output_type": "execute_result"
    }
   ],
   "source": [
    "total = abs(target.value.sum())\n",
    "total"
   ]
  },
  {
   "cell_type": "code",
   "execution_count": 186,
   "metadata": {},
   "outputs": [
    {
     "data": {
      "text/plain": [
       "-536.3999999999996"
      ]
     },
     "execution_count": 186,
     "metadata": {},
     "output_type": "execute_result"
    }
   ],
   "source": [
    "L - 1500 - 980"
   ]
  },
  {
   "cell_type": "code",
   "execution_count": 190,
   "metadata": {},
   "outputs": [
    {
     "data": {
      "text/html": [
       "<div>\n",
       "<style scoped>\n",
       "    .dataframe tbody tr th:only-of-type {\n",
       "        vertical-align: middle;\n",
       "    }\n",
       "\n",
       "    .dataframe tbody tr th {\n",
       "        vertical-align: top;\n",
       "    }\n",
       "\n",
       "    .dataframe thead th {\n",
       "        text-align: right;\n",
       "    }\n",
       "</style>\n",
       "<table border=\"1\" class=\"dataframe\">\n",
       "  <thead>\n",
       "    <tr style=\"text-align: right;\">\n",
       "      <th></th>\n",
       "      <th>date</th>\n",
       "      <th>value</th>\n",
       "      <th>description</th>\n",
       "    </tr>\n",
       "  </thead>\n",
       "  <tbody>\n",
       "    <tr>\n",
       "      <th>1</th>\n",
       "      <td>2024-01-30</td>\n",
       "      <td>50.0</td>\n",
       "      <td>Transferência recebida pelo Pix - RAFAEL TARGA...</td>\n",
       "    </tr>\n",
       "    <tr>\n",
       "      <th>2</th>\n",
       "      <td>2024-01-31</td>\n",
       "      <td>40.0</td>\n",
       "      <td>Transferência recebida pelo Pix - RAFAEL TARGA...</td>\n",
       "    </tr>\n",
       "    <tr>\n",
       "      <th>0</th>\n",
       "      <td>2024-02-03</td>\n",
       "      <td>50.0</td>\n",
       "      <td>Transferência recebida pelo Pix - KLAUSS MIRAN...</td>\n",
       "    </tr>\n",
       "    <tr>\n",
       "      <th>1</th>\n",
       "      <td>2024-02-07</td>\n",
       "      <td>47.0</td>\n",
       "      <td>Transferência recebida pelo Pix - KLAUSS MIRAN...</td>\n",
       "    </tr>\n",
       "    <tr>\n",
       "      <th>0</th>\n",
       "      <td>2024-03-01</td>\n",
       "      <td>60.0</td>\n",
       "      <td>Transferência Recebida - David Oberdan Dias de...</td>\n",
       "    </tr>\n",
       "    <tr>\n",
       "      <th>1</th>\n",
       "      <td>2024-03-10</td>\n",
       "      <td>100.0</td>\n",
       "      <td>Transferência Recebida - Matteus Araujo Ouvern...</td>\n",
       "    </tr>\n",
       "    <tr>\n",
       "      <th>2</th>\n",
       "      <td>2024-03-10</td>\n",
       "      <td>-100.0</td>\n",
       "      <td>Transferência enviada pelo Pix - Klauss Mirand...</td>\n",
       "    </tr>\n",
       "  </tbody>\n",
       "</table>\n",
       "</div>"
      ],
      "text/plain": [
       "        date  value                                        description\n",
       "1 2024-01-30   50.0  Transferência recebida pelo Pix - RAFAEL TARGA...\n",
       "2 2024-01-31   40.0  Transferência recebida pelo Pix - RAFAEL TARGA...\n",
       "0 2024-02-03   50.0  Transferência recebida pelo Pix - KLAUSS MIRAN...\n",
       "1 2024-02-07   47.0  Transferência recebida pelo Pix - KLAUSS MIRAN...\n",
       "0 2024-03-01   60.0  Transferência Recebida - David Oberdan Dias de...\n",
       "1 2024-03-10  100.0  Transferência Recebida - Matteus Araujo Ouvern...\n",
       "2 2024-03-10 -100.0  Transferência enviada pelo Pix - Klauss Mirand..."
      ]
     },
     "execution_count": 190,
     "metadata": {},
     "output_type": "execute_result"
    }
   ],
   "source": [
    "target = df.loc[df.date.dt.month < 4][1:]\n",
    "target"
   ]
  },
  {
   "cell_type": "code",
   "execution_count": 191,
   "metadata": {},
   "outputs": [
    {
     "data": {
      "text/html": [
       "<div>\n",
       "<style scoped>\n",
       "    .dataframe tbody tr th:only-of-type {\n",
       "        vertical-align: middle;\n",
       "    }\n",
       "\n",
       "    .dataframe tbody tr th {\n",
       "        vertical-align: top;\n",
       "    }\n",
       "\n",
       "    .dataframe thead th {\n",
       "        text-align: right;\n",
       "    }\n",
       "</style>\n",
       "<table border=\"1\" class=\"dataframe\">\n",
       "  <thead>\n",
       "    <tr style=\"text-align: right;\">\n",
       "      <th></th>\n",
       "      <th>date</th>\n",
       "      <th>value</th>\n",
       "      <th>description</th>\n",
       "    </tr>\n",
       "  </thead>\n",
       "  <tbody>\n",
       "    <tr>\n",
       "      <th>0</th>\n",
       "      <td>2024-12-02</td>\n",
       "      <td>-1708.0</td>\n",
       "      <td>Transferência enviada pelo Pix - HIGOR GONCALV...</td>\n",
       "    </tr>\n",
       "    <tr>\n",
       "      <th>39</th>\n",
       "      <td>2024-11-14</td>\n",
       "      <td>-5376.4</td>\n",
       "      <td>Transferência enviada pelo Pix - Elisangela Le...</td>\n",
       "    </tr>\n",
       "  </tbody>\n",
       "</table>\n",
       "</div>"
      ],
      "text/plain": [
       "         date   value                                        description\n",
       "0  2024-12-02 -1708.0  Transferência enviada pelo Pix - HIGOR GONCALV...\n",
       "39 2024-11-14 -5376.4  Transferência enviada pelo Pix - Elisangela Le..."
      ]
     },
     "execution_count": 191,
     "metadata": {},
     "output_type": "execute_result"
    }
   ],
   "source": [
    "target = df.loc[(abs(df.value) > 1500)]\n",
    "target"
   ]
  }
 ],
 "metadata": {
  "kernelspec": {
   "display_name": "Python 3",
   "language": "python",
   "name": "python3"
  },
  "language_info": {
   "codemirror_mode": {
    "name": "ipython",
    "version": 3
   },
   "file_extension": ".py",
   "mimetype": "text/x-python",
   "name": "python",
   "nbconvert_exporter": "python",
   "pygments_lexer": "ipython3",
   "version": "3.12.3"
  }
 },
 "nbformat": 4,
 "nbformat_minor": 2
}
