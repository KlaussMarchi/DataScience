{
 "cells": [
  {
   "cell_type": "markdown",
   "id": "67a60a60",
   "metadata": {},
   "source": [
    "# PYTROLE - CONTROLE COM PYTHON\n",
    "- Importando as bibliotecas"
   ]
  },
  {
   "cell_type": "code",
   "execution_count": 4,
   "id": "2123a4af",
   "metadata": {},
   "outputs": [],
   "source": [
    "import control as ctl\n",
    "import matplotlib.pyplot as plt\n",
    "import numpy as np\n",
    "import sympy as sp"
   ]
  },
  {
   "cell_type": "markdown",
   "id": "31c29aae",
   "metadata": {},
   "source": [
    "- Função que converte a função de transferência da biblioteca control para uma função do sympy"
   ]
  },
  {
   "cell_type": "code",
   "execution_count": 5,
   "metadata": {},
   "outputs": [],
   "source": [
    "def sympyFunction(tf):\n",
    "    num, den = ctl.tfdata(tf)\n",
    "    \n",
    "    s = sp.var('s')\n",
    "    num_expr = sum(coef*s**i for i, coef in enumerate(num[0][0][::-1]))\n",
    "    den_expr = sum(coef*s**i for i, coef in enumerate(den[0][0][::-1]))\n",
    "    sympy_system = num_expr/den_expr\n",
    "\n",
    "    return sympy_system"
   ]
  },
  {
   "cell_type": "markdown",
   "id": "42c62e7a",
   "metadata": {},
   "source": [
    "# CONVERTENDO PARA MATRIZ DE ESTADO\n",
    "\n",
    "$\\dot{x} = Ax + Bu$\n",
    "\n",
    "$y = Cx + Du$"
   ]
  },
  {
   "cell_type": "code",
   "execution_count": 3,
   "id": "be7d28f1",
   "metadata": {},
   "outputs": [
    {
     "ename": "NameError",
     "evalue": "name 'G' is not defined",
     "output_type": "error",
     "traceback": [
      "\u001b[0;31m---------------------------------------------------------------------------\u001b[0m",
      "\u001b[0;31mNameError\u001b[0m                                 Traceback (most recent call last)",
      "Cell \u001b[0;32mIn[3], line 1\u001b[0m\n\u001b[0;32m----> 1\u001b[0m matrix \u001b[38;5;241m=\u001b[39m ctl\u001b[38;5;241m.\u001b[39mtf2ss(\u001b[43mG\u001b[49m)\n\u001b[1;32m      2\u001b[0m A, B, C, D \u001b[38;5;241m=\u001b[39m matrix\u001b[38;5;241m.\u001b[39mA, matrix\u001b[38;5;241m.\u001b[39mB, matrix\u001b[38;5;241m.\u001b[39mC, matrix\u001b[38;5;241m.\u001b[39mD\n\u001b[1;32m      4\u001b[0m display(A)\n",
      "\u001b[0;31mNameError\u001b[0m: name 'G' is not defined"
     ]
    }
   ],
   "source": [
    "matrix = ctl.tf2ss(G)\n",
    "A, B, C, D = matrix.A, matrix.B, matrix.C, matrix.D\n",
    "\n",
    "display(A)\n",
    "display(B)\n",
    "display(C)\n",
    "display(D)"
   ]
  },
  {
   "cell_type": "markdown",
   "id": "47e39ade",
   "metadata": {},
   "source": [
    "# FORMAS CANÔNICAS\n",
    "\n",
    "### VARIÁVEL DE FASE\n",
    "Para obter a forma de variáveis de fase, realizamos as seguintes operações:\n",
    "A = inv(P) * A * P; B = inv(P) * B; C = C * P; D = D, em que P é uma matriz\n",
    "quadrada com elementos 1 ao longo da diagonal secundária e o restante dos\n",
    "elementos nulos."
   ]
  },
  {
   "cell_type": "code",
   "execution_count": 187,
   "id": "f523d517",
   "metadata": {},
   "outputs": [
    {
     "data": {
      "text/plain": [
       "array([[    0.  ,     1.  ,     0.  ,     0.  ],\n",
       "       [    0.  ,     0.  ,     1.  ,     0.  ],\n",
       "       [    0.  ,     0.  ,     0.  ,     1.  ],\n",
       "       [-1000.  ,  -250.  ,  -240.  ,   -20.75]])"
      ]
     },
     "metadata": {},
     "output_type": "display_data"
    },
    {
     "data": {
      "text/plain": [
       "array([[0.],\n",
       "       [0.],\n",
       "       [0.],\n",
       "       [1.]])"
      ]
     },
     "metadata": {},
     "output_type": "display_data"
    },
    {
     "data": {
      "text/plain": [
       "array([[0., 1., 0., 0.]])"
      ]
     },
     "metadata": {},
     "output_type": "display_data"
    },
    {
     "data": {
      "text/plain": [
       "array([[0.]])"
      ]
     },
     "metadata": {},
     "output_type": "display_data"
    }
   ],
   "source": [
    "def getVariaveisFase(G):\n",
    "    matrix = ctl.tf2ss(G)\n",
    "    A, B, C, D = matrix.A, matrix.B, matrix.C, matrix.D\n",
    "    \n",
    "    n = A.shape[0]\n",
    "\n",
    "    # Cria uma matriz P com elementos 1 na diagonal secundária\n",
    "    P = np.fliplr(np.eye(n))\n",
    "\n",
    "    # Calcula a inversa da matriz P\n",
    "    P_inv = np.linalg.inv(P)\n",
    "\n",
    "    # Realiza as operações para obter a forma de variáveis de fase\n",
    "    A = P_inv @ A @ P\n",
    "    B = P_inv @ B\n",
    "    C = C @ P\n",
    "    D = D\n",
    "    \n",
    "    return A, B, C, D\n",
    "\n",
    "A, B, C, D = getVariaveisFase(G)\n",
    "display(A)\n",
    "display(B)\n",
    "display(C)\n",
    "display(D)"
   ]
  },
  {
   "cell_type": "markdown",
   "id": "bbddb25c",
   "metadata": {},
   "source": [
    "### FORMA CONTROLÁVEL"
   ]
  },
  {
   "cell_type": "code",
   "execution_count": 188,
   "id": "4c3ddeff",
   "metadata": {},
   "outputs": [
    {
     "data": {
      "text/plain": [
       "array([[  -20.75,  -240.  ,  -250.  , -1000.  ],\n",
       "       [    1.  ,     0.  ,     0.  ,     0.  ],\n",
       "       [    0.  ,     1.  ,     0.  ,     0.  ],\n",
       "       [    0.  ,     0.  ,     1.  ,     0.  ]])"
      ]
     },
     "metadata": {},
     "output_type": "display_data"
    },
    {
     "data": {
      "text/plain": [
       "array([[1.],\n",
       "       [0.],\n",
       "       [0.],\n",
       "       [0.]])"
      ]
     },
     "metadata": {},
     "output_type": "display_data"
    },
    {
     "data": {
      "text/plain": [
       "array([[0., 0., 1., 0.]])"
      ]
     },
     "metadata": {},
     "output_type": "display_data"
    },
    {
     "data": {
      "text/plain": [
       "array([[0.]])"
      ]
     },
     "metadata": {},
     "output_type": "display_data"
    }
   ],
   "source": [
    "A = np.fliplr(np.flipud(A))\n",
    "B = np.fliplr(np.flipud(B))\n",
    "C = np.fliplr(np.flipud(C))\n",
    "D = np.fliplr(np.flipud(D))\n",
    "\n",
    "display(A)\n",
    "display(B)\n",
    "display(C)\n",
    "display(D)"
   ]
  },
  {
   "cell_type": "markdown",
   "id": "9b095ef2",
   "metadata": {},
   "source": [
    "### FORMA OBSERVÁVEL\n",
    "\n",
    "$A = A^T \\newline$\n",
    "$B = C^T \\newline$\n",
    "$C = B^T \\newline$\n",
    "$D = D$"
   ]
  },
  {
   "cell_type": "code",
   "execution_count": 189,
   "id": "2de37c22",
   "metadata": {},
   "outputs": [
    {
     "data": {
      "text/plain": [
       "array([[  -20.75,     1.  ,     0.  ,     0.  ],\n",
       "       [ -240.  ,     0.  ,     1.  ,     0.  ],\n",
       "       [ -250.  ,     0.  ,     0.  ,     1.  ],\n",
       "       [-1000.  ,     0.  ,     0.  ,     0.  ]])"
      ]
     },
     "metadata": {},
     "output_type": "display_data"
    },
    {
     "data": {
      "text/plain": [
       "array([[0.],\n",
       "       [0.],\n",
       "       [1.],\n",
       "       [0.]])"
      ]
     },
     "metadata": {},
     "output_type": "display_data"
    },
    {
     "data": {
      "text/plain": [
       "array([[1., 0., 0., 0.]])"
      ]
     },
     "metadata": {},
     "output_type": "display_data"
    },
    {
     "data": {
      "text/plain": [
       "array([[0.]])"
      ]
     },
     "metadata": {},
     "output_type": "display_data"
    }
   ],
   "source": [
    "Ao = A.transpose()\n",
    "Bo = C.transpose()\n",
    "Co = B.transpose()\n",
    "Do = D\n",
    "\n",
    "display(Ao)\n",
    "display(Bo)\n",
    "display(Co)\n",
    "display(Do)"
   ]
  },
  {
   "cell_type": "markdown",
   "id": "d44371cf",
   "metadata": {},
   "source": [
    "### FORMA MODAL\n",
    "- Convetendo a TF para sympy object"
   ]
  },
  {
   "cell_type": "code",
   "execution_count": 190,
   "id": "d40beccc",
   "metadata": {},
   "outputs": [
    {
     "data": {
      "text/plain": [
       "[-10.01 - 10.99*I, -0.36 + 2.1*I, -10.01 + 10.99*I, -0.36 - 2.1*I]"
      ]
     },
     "execution_count": 190,
     "metadata": {},
     "output_type": "execute_result"
    }
   ],
   "source": [
    "def getPoles(G):\n",
    "    s = sp.var('s')\n",
    "    F = sympyFunction(G)\n",
    "    F\n",
    "\n",
    "    num, den = sp.fraction(F)\n",
    "    solutions = sp.solve(sp.Eq(den, 0))\n",
    "\n",
    "    for i, value in enumerate(solutions):\n",
    "        solutions[i] = round(sp.N(value), 2)\n",
    "\n",
    "    return solutions\n",
    "\n",
    "\n",
    "solutions = getPoles(G)\n",
    "solutions"
   ]
  },
  {
   "cell_type": "code",
   "execution_count": 191,
   "id": "6d9cc05a",
   "metadata": {},
   "outputs": [
    {
     "data": {
      "text/plain": [
       "(-0.36 - 2.1*I, -0.36 + 2.1*I, -10.01 - 10.99*I, -10.01 + 10.99*I)"
      ]
     },
     "execution_count": 191,
     "metadata": {},
     "output_type": "execute_result"
    }
   ],
   "source": [
    "s1, s2, s3, s4 = solutions[3], solutions[1], solutions[0], solutions[2]\n",
    "s1, s2, s3, s4"
   ]
  },
  {
   "cell_type": "code",
   "execution_count": 192,
   "id": "1fe56481",
   "metadata": {},
   "outputs": [
    {
     "data": {
      "text/latex": [
       "$\\displaystyle \\frac{20 s}{\\left(s + 0.36 - 2.1 i\\right) \\left(s + 0.36 + 2.1 i\\right) \\left(s + 10.01 - 10.99 i\\right) \\left(s + 10.01 + 10.99 i\\right)}$"
      ],
      "text/plain": [
       "20*s/((s + 0.36 - 2.1*I)*(s + 0.36 + 2.1*I)*(s + 10.01 - 10.99*I)*(s + 10.01 + 10.99*I))"
      ]
     },
     "execution_count": 192,
     "metadata": {},
     "output_type": "execute_result"
    }
   ],
   "source": [
    "F = 20*s/((s-s1) * (s-s2) * (s-s3) * (s-s4))\n",
    "F"
   ]
  },
  {
   "cell_type": "markdown",
   "id": "8b7921ce",
   "metadata": {},
   "source": [
    "- $a = [G(s) \\cdot (s - (-10.01 - 10.99i))]_{s \\to -10.01 - 10.99i}$\n",
    "- Repetir esse padrão para as raízes b, c, d, e"
   ]
  },
  {
   "cell_type": "code",
   "execution_count": 18,
   "id": "00a350a9",
   "metadata": {},
   "outputs": [],
   "source": [
    "a = sp.expand((F * (s-s1)).subs(s, s1))\n",
    "b = sp.expand((F * (s-s2)).subs(s, s2))\n",
    "c = sp.expand((F * (s-s3)).subs(s, s3))\n",
    "d = sp.expand((F * (s-s4)).subs(s, s4))"
   ]
  },
  {
   "cell_type": "code",
   "execution_count": 19,
   "id": "0713dee0",
   "metadata": {},
   "outputs": [
    {
     "data": {
      "text/latex": [
       "$\\displaystyle \\left[\\begin{matrix}-10.01 - 10.99 i & 0 & 0 & 0\\\\0 & -0.36 + 2.1 i & 0 & 0\\\\0 & 0 & -10.01 + 10.99 i & 0\\\\0 & 0 & 0 & -0.36 - 2.1 i\\end{matrix}\\right]$"
      ],
      "text/plain": [
       "Matrix([\n",
       "[-10.01 - 10.99*I,             0,                0,             0],\n",
       "[               0, -0.36 + 2.1*I,                0,             0],\n",
       "[               0,             0, -10.01 + 10.99*I,             0],\n",
       "[               0,             0,                0, -0.36 - 2.1*I]])"
      ]
     },
     "metadata": {},
     "output_type": "display_data"
    },
    {
     "data": {
      "text/latex": [
       "$\\displaystyle \\left[\\begin{matrix}1\\\\1\\\\1\\\\1\\end{matrix}\\right]$"
      ],
      "text/plain": [
       "Matrix([\n",
       "[1],\n",
       "[1],\n",
       "[1],\n",
       "[1]])"
      ]
     },
     "metadata": {},
     "output_type": "display_data"
    },
    {
     "data": {
      "text/latex": [
       "$\\displaystyle \\left[\\begin{matrix}0.04754 + 0.001018 i & 0.04754 - 0.001018 i & -0.04754 - 0.04194 i & -0.04754 + 0.04194 i\\end{matrix}\\right]$"
      ],
      "text/plain": [
       "Matrix([[0.04754 + 0.001018*I, 0.04754 - 0.001018*I, -0.04754 - 0.04194*I, -0.04754 + 0.04194*I]])"
      ]
     },
     "metadata": {},
     "output_type": "display_data"
    }
   ],
   "source": [
    "A = sp.Matrix([\n",
    "    [solutions[0], 0, 0, 0],\n",
    "    [0, solutions[1], 0, 0],\n",
    "    [0, 0, solutions[2], 0],\n",
    "    [0, 0, 0, solutions[3]]\n",
    "])\n",
    "\n",
    "B = sp.Matrix([\n",
    "    [1],\n",
    "    [1],\n",
    "    [1],\n",
    "    [1]\n",
    "])\n",
    "\n",
    "C = sp.Matrix([[a, b, c, d]])\n",
    "\n",
    "display(A)\n",
    "display(B)\n",
    "display(C)"
   ]
  },
  {
   "cell_type": "markdown",
   "id": "252f9c50",
   "metadata": {},
   "source": [
    "# VOLTANDO PARA A TF"
   ]
  },
  {
   "cell_type": "markdown",
   "id": "5dd7bda5",
   "metadata": {},
   "source": [
    "- Convertendo para o denominador da função de transferência usando a fórmula: $D(s) = |(sI - A)|$"
   ]
  },
  {
   "cell_type": "code",
   "execution_count": 23,
   "id": "ccdcf001",
   "metadata": {},
   "outputs": [
    {
     "data": {
      "text/latex": [
       "$\\displaystyle \\left(s + 0.36 - 2.1 i\\right) \\left(s + 0.36 + 2.1 i\\right) \\left(s + 10.01 - 10.99 i\\right) \\left(s + 10.01 + 10.99 i\\right)$"
      ],
      "text/plain": [
       "(s + 0.36 - 2.1*I)*(s + 0.36 + 2.1*I)*(s + 10.01 - 10.99*I)*(s + 10.01 + 10.99*I)"
      ]
     },
     "execution_count": 23,
     "metadata": {},
     "output_type": "execute_result"
    }
   ],
   "source": [
    "I = sp.eye(A.shape[0])\n",
    "s = sp.symbols('s')\n",
    "\n",
    "resultado = (s*I - A).det()\n",
    "resultado"
   ]
  },
  {
   "cell_type": "markdown",
   "id": "f49f012e",
   "metadata": {},
   "source": [
    "- Obtendo toda a função de transferência: $T_F = \\frac{Y(s)}{U(s)} = C(sI - A)^{-1}B + D$"
   ]
  },
  {
   "cell_type": "code",
   "execution_count": 122,
   "id": "e12e9acf",
   "metadata": {},
   "outputs": [
    {
     "name": "stderr",
     "output_type": "stream",
     "text": [
      "\n",
      "KeyboardInterrupt\n",
      "\n"
     ]
    }
   ],
   "source": [
    "A, B, C, D = sp.Matrix(A), sp.Matrix(B), sp.Matrix(C), sp.Matrix(D)\n",
    "s = sp.symbols('s')\n",
    "I = sp.eye(A.shape[0])\n",
    "\n",
    "Tf = C * (s*I - A).inv() * B + D\n",
    "Tf[0]"
   ]
  },
  {
   "cell_type": "markdown",
   "id": "f60581e9",
   "metadata": {},
   "source": [
    "# ANALISANDO A MATRIZ\n",
    "Podemos usar as matrizes das variáveis de estado para tirar conclusões importantes acerca do sistema"
   ]
  },
  {
   "cell_type": "markdown",
   "id": "573e9cda",
   "metadata": {},
   "source": [
    "### CONTROLABILIDADE\n",
    "\n",
    "Um sistema pode ser controlável quando analizarmos a matriz\n",
    "$c = [B \\,\\,\\, AB \\,\\,\\, A^2B \\,\\,\\,...\\,\\,\\,A^{n-1}B]$, onde $n$ é o número de variáveis de estado, no nosso caso, 4 variáveis"
   ]
  },
  {
   "cell_type": "code",
   "execution_count": 35,
   "id": "e7d6ff22",
   "metadata": {},
   "outputs": [
    {
     "data": {
      "text/latex": [
       "$\\displaystyle \\left[\\begin{matrix}0 & 0 & 0 & 1.0\\\\0 & 0 & 1.0 & -20.75\\\\0 & 1.0 & -20.75 & 190.5625\\\\1.0 & -20.75 & 190.5625 & 775.828125\\end{matrix}\\right]$"
      ],
      "text/plain": [
       "Matrix([\n",
       "[  0,      0,        0,        1.0],\n",
       "[  0,      0,      1.0,     -20.75],\n",
       "[  0,    1.0,   -20.75,   190.5625],\n",
       "[1.0, -20.75, 190.5625, 775.828125]])"
      ]
     },
     "execution_count": 35,
     "metadata": {},
     "output_type": "execute_result"
    }
   ],
   "source": [
    "A, B, C, D = getVariaveisFase(G)\n",
    "A, B, C, D = sp.Matrix(A), sp.Matrix(B), sp.Matrix(C), sp.Matrix(D)\n",
    "\n",
    "c = sp.Matrix([[B, A*B, A**2*B, A**3*B]])\n",
    "c"
   ]
  },
  {
   "cell_type": "code",
   "execution_count": 36,
   "id": "e13d817f",
   "metadata": {},
   "outputs": [
    {
     "data": {
      "text/latex": [
       "$\\displaystyle 1.0$"
      ],
      "text/plain": [
       "1.00000000000000"
      ]
     },
     "execution_count": 36,
     "metadata": {},
     "output_type": "execute_result"
    }
   ],
   "source": [
    "c.det()"
   ]
  },
  {
   "cell_type": "markdown",
   "id": "6d3c1be3",
   "metadata": {},
   "source": [
    "Como $det([B \\,\\,\\, AB \\,\\,\\, A^2B \\,\\,\\, A^3B]) \\neq 0$, O sistema é controlável!"
   ]
  },
  {
   "cell_type": "markdown",
   "id": "7afb6ffe",
   "metadata": {},
   "source": [
    "### ESTABILIZABILIDADE - POSTO DA MATRIZ\n",
    "$rank[\\lambda I - A \\,\\,\\,\\, B] = n$, no nosso caso, $n=4$ (4 variáveis de estado)"
   ]
  },
  {
   "cell_type": "code",
   "execution_count": 27,
   "id": "bdc480e7",
   "metadata": {},
   "outputs": [],
   "source": [
    "A, B, C, D = getVariaveisFase(G)\n",
    "A, B, C, D = sp.Matrix(A), sp.Matrix(B), sp.Matrix(C), sp.Matrix(D)\n",
    "\n",
    "I = sp.eye(4)\n",
    "lamb = sp.symbols('lambda')"
   ]
  },
  {
   "cell_type": "code",
   "execution_count": 28,
   "id": "b575a076",
   "metadata": {},
   "outputs": [
    {
     "data": {
      "text/latex": [
       "$\\displaystyle \\left[\\begin{matrix}\\lambda & -1.0 & 0 & 0 & 0\\\\0 & \\lambda & -1.0 & 0 & 0\\\\0 & 0 & \\lambda & -1.0 & 0\\\\1000.0 & 250.0 & 240.0 & \\lambda + 20.75 & 1.0\\end{matrix}\\right]$"
      ],
      "text/plain": [
       "Matrix([\n",
       "[lambda,   -1.0,      0,              0,   0],\n",
       "[     0, lambda,   -1.0,              0,   0],\n",
       "[     0,      0, lambda,           -1.0,   0],\n",
       "[1000.0,  250.0,  240.0, lambda + 20.75, 1.0]])"
      ]
     },
     "execution_count": 28,
     "metadata": {},
     "output_type": "execute_result"
    }
   ],
   "source": [
    "matriz = sp.Matrix(lamb*I - A).row_join(B)\n",
    "matriz"
   ]
  },
  {
   "cell_type": "code",
   "execution_count": 29,
   "id": "5ebb4ba0",
   "metadata": {},
   "outputs": [
    {
     "data": {
      "text/plain": [
       "[-10.01 - 10.99*I, -0.36 + 2.1*I, -10.01 + 10.99*I, -0.36 - 2.1*I]"
      ]
     },
     "execution_count": 29,
     "metadata": {},
     "output_type": "execute_result"
    }
   ],
   "source": [
    "raizes = getPoles(G)\n",
    "raizes"
   ]
  },
  {
   "cell_type": "code",
   "execution_count": 30,
   "id": "e4b43913",
   "metadata": {},
   "outputs": [
    {
     "data": {
      "text/plain": [
       "4"
      ]
     },
     "execution_count": 30,
     "metadata": {},
     "output_type": "execute_result"
    }
   ],
   "source": [
    "matriz.applyfunc(lambda f: f.subs(lamb, solutions[0])).rank()"
   ]
  },
  {
   "cell_type": "markdown",
   "id": "508b6eb4",
   "metadata": {},
   "source": [
    "### OBSERVABILIDADE\n",
    "\n",
    "$\\left[\\begin{matrix}C\\\\A C\\\\A^{2} C\\\\A^{3} C\\end{matrix}\\right]$"
   ]
  },
  {
   "cell_type": "code",
   "execution_count": 30,
   "id": "f71d4559",
   "metadata": {},
   "outputs": [],
   "source": [
    "A, B, C, D = getVariaveisFase(G)\n",
    "A, B, C, D = sp.Matrix(A), sp.Matrix(B), sp.Matrix(C), sp.Matrix(D)\n",
    "\n",
    "o = sp.Matrix([\n",
    "    [C],\n",
    "    [C*A],\n",
    "    [C*A**2],\n",
    "    [C*A**3]\n",
    "])"
   ]
  },
  {
   "cell_type": "code",
   "execution_count": 32,
   "id": "49c6dfbc",
   "metadata": {},
   "outputs": [
    {
     "data": {
      "text/latex": [
       "$\\displaystyle 1000.0$"
      ],
      "text/plain": [
       "1000.00000000000"
      ]
     },
     "execution_count": 32,
     "metadata": {},
     "output_type": "execute_result"
    }
   ],
   "source": [
    "o.det()"
   ]
  },
  {
   "cell_type": "markdown",
   "id": "2ddc8b98",
   "metadata": {},
   "source": [
    "Dessa forma, o sistema não é completamente observável"
   ]
  },
  {
   "cell_type": "markdown",
   "id": "818867b8",
   "metadata": {},
   "source": [
    "### DETECTABILIDADE"
   ]
  },
  {
   "cell_type": "code",
   "execution_count": 34,
   "id": "1d354a70",
   "metadata": {},
   "outputs": [],
   "source": [
    "A, B, C, D = getVariaveisFase(G)\n",
    "A, B, C, D = sp.Matrix(A), sp.Matrix(B), sp.Matrix(C), sp.Matrix(D)\n",
    "\n",
    "I = sp.eye(4)\n",
    "lamb = sp.symbols('lambda')"
   ]
  },
  {
   "cell_type": "code",
   "execution_count": 35,
   "id": "fb1293d5",
   "metadata": {},
   "outputs": [
    {
     "data": {
      "text/latex": [
       "$\\displaystyle \\left[\\begin{matrix}\\lambda & -1.0 & 0 & 0\\\\0 & \\lambda & -1.0 & 0\\\\0 & 0 & \\lambda & -1.0\\\\1000.0 & 250.0 & 240.0 & \\lambda + 20.75\\\\0 & 1.0 & 0 & 0\\end{matrix}\\right]$"
      ],
      "text/plain": [
       "Matrix([\n",
       "[lambda,   -1.0,      0,              0],\n",
       "[     0, lambda,   -1.0,              0],\n",
       "[     0,      0, lambda,           -1.0],\n",
       "[1000.0,  250.0,  240.0, lambda + 20.75],\n",
       "[     0,    1.0,      0,              0]])"
      ]
     },
     "execution_count": 35,
     "metadata": {},
     "output_type": "execute_result"
    }
   ],
   "source": [
    "matriz = sp.Matrix(lamb*I - A).col_join(C)\n",
    "matriz"
   ]
  },
  {
   "cell_type": "code",
   "execution_count": 36,
   "id": "2fc62524",
   "metadata": {},
   "outputs": [
    {
     "data": {
      "text/plain": [
       "4"
      ]
     },
     "execution_count": 36,
     "metadata": {},
     "output_type": "execute_result"
    }
   ],
   "source": [
    "raizes = getPoles(G)\n",
    "raizes\n",
    "\n",
    "matriz.applyfunc(lambda f: f.subs(lamb, solutions[0])).rank()"
   ]
  },
  {
   "cell_type": "markdown",
   "id": "c5a89503",
   "metadata": {},
   "source": [
    "### DIAGONALIZANDO A MATRIZ\n",
    "\n",
    "$A = P^{-1}\\,A\\,P\\newline$ \n",
    "$B = P^{-1}\\,B\\newline$\n",
    "$C = C\\,P \\newline$\n",
    "$D = D$"
   ]
  },
  {
   "cell_type": "code",
   "execution_count": 37,
   "id": "6a6442eb",
   "metadata": {},
   "outputs": [],
   "source": [
    "A, B, C, D = getVariaveisFase(G)"
   ]
  },
  {
   "cell_type": "code",
   "execution_count": 38,
   "id": "bd26963c",
   "metadata": {},
   "outputs": [],
   "source": [
    "def desprezarNumerosPequenos(matriz):\n",
    "    return np.round(matriz, 3)"
   ]
  },
  {
   "cell_type": "code",
   "execution_count": 39,
   "id": "33cc37cb",
   "metadata": {},
   "outputs": [
    {
     "data": {
      "text/latex": [
       "$\\displaystyle \\left[\\begin{matrix}-10.014 + 10.988 i & 0 & 0 & 0\\\\0 & -10.014 - 10.988 i & 0 & 0\\\\0 & 0 & -0.361 + 2.096 i & 0\\\\0 & 0 & 0 & -0.361 - 2.096 i\\end{matrix}\\right]$"
      ],
      "text/plain": [
       "Matrix([\n",
       "[-10.014 + 10.988*I,                  0,                0,                0],\n",
       "[                 0, -10.014 - 10.988*I,                0,                0],\n",
       "[                 0,                  0, -0.361 + 2.096*I,                0],\n",
       "[                 0,                  0,                0, -0.361 - 2.096*I]])"
      ]
     },
     "metadata": {},
     "output_type": "display_data"
    },
    {
     "data": {
      "text/latex": [
       "$\\displaystyle \\left[\\begin{matrix}0.511 + 0.481 i\\\\0.511 - 0.481 i\\\\0.012 + 0.004 i\\\\0.012 - 0.004 i\\end{matrix}\\right]$"
      ],
      "text/plain": [
       "Matrix([\n",
       "[0.511 + 0.481*I],\n",
       "[0.511 - 0.481*I],\n",
       "[0.012 + 0.004*I],\n",
       "[0.012 - 0.004*I]])"
      ]
     },
     "metadata": {},
     "output_type": "display_data"
    },
    {
     "data": {
      "text/latex": [
       "$\\displaystyle \\left[\\begin{matrix}0.004 i & - 0.004 i & 0.184 - 0.065 i & 0.184 + 0.065 i\\end{matrix}\\right]$"
      ],
      "text/plain": [
       "Matrix([[0.004*I, -0.004*I, 0.184 - 0.065*I, 0.184 + 0.065*I]])"
      ]
     },
     "metadata": {},
     "output_type": "display_data"
    },
    {
     "data": {
      "text/latex": [
       "$\\displaystyle \\left[\\begin{matrix}0\\end{matrix}\\right]$"
      ],
      "text/plain": [
       "Matrix([[0]])"
      ]
     },
     "metadata": {},
     "output_type": "display_data"
    }
   ],
   "source": [
    "autovalores, autovetores = np.linalg.eig(A)\n",
    "\n",
    "A = np.linalg.inv(autovetores) @ A @ autovetores\n",
    "B = np.linalg.inv(autovetores) @ B\n",
    "C = C @ autovetores\n",
    "D = D\n",
    "\n",
    "A, B, C, D = desprezarNumerosPequenos(A), desprezarNumerosPequenos(B), desprezarNumerosPequenos(C), desprezarNumerosPequenos(D)\n",
    "display(sp.Matrix(A))\n",
    "display(sp.Matrix(B))\n",
    "display(sp.Matrix(C))\n",
    "display(sp.Matrix(D))"
   ]
  },
  {
   "cell_type": "markdown",
   "id": "2502197a",
   "metadata": {},
   "source": [
    "Podemos ver que esse sistema é estabilizável, já que todos os valores da matriz B não são nulos, ou seja, dependem da entrada. Então qualquer polo que estiver na direita poderá ser estabilizado pela entrada"
   ]
  },
  {
   "cell_type": "markdown",
   "id": "e3c3d075",
   "metadata": {},
   "source": [
    "# MATRIZ TRANSIÇÃO DE ESTADO\n",
    "- Obtendo o coeficiente $\\mathscr{L}^{-1}\\{(sI-A)^{-1}\\}$"
   ]
  },
  {
   "cell_type": "code",
   "execution_count": 40,
   "id": "cb2aec19",
   "metadata": {},
   "outputs": [
    {
     "data": {
      "text/latex": [
       "$\\displaystyle \\left[\\begin{matrix}0 & 1.0 & 0 & 0\\\\0 & 0 & 1.0 & 0\\\\0 & 0 & 0 & 1.0\\\\-1000.0 & -250.0 & -240.0 & -20.75\\end{matrix}\\right]$"
      ],
      "text/plain": [
       "Matrix([\n",
       "[      0,    1.0,      0,      0],\n",
       "[      0,      0,    1.0,      0],\n",
       "[      0,      0,      0,    1.0],\n",
       "[-1000.0, -250.0, -240.0, -20.75]])"
      ]
     },
     "metadata": {},
     "output_type": "display_data"
    }
   ],
   "source": [
    "A, B, C, D = getVariaveisFase(G)\n",
    "I = sp.eye(A.shape[0])\n",
    "\n",
    "A, B, C, D = sp.Matrix(A), sp.Matrix(B), sp.Matrix(C), sp.Matrix(D)\n",
    "display(A)"
   ]
  },
  {
   "cell_type": "code",
   "execution_count": 41,
   "id": "8f26480e",
   "metadata": {},
   "outputs": [
    {
     "data": {
      "text/latex": [
       "$\\displaystyle \\left[\\begin{matrix}\\frac{1000.0 s^{3} + 20750.0 s^{2} + 240000.0 s + 250000.0}{1000.0 s^{4} + 20750.0 s^{3} + 240000.0 s^{2} + 250000.0 s + 1000000.0} & \\frac{1000.0 s^{2} + 20750.0 s + 240000.0}{1000.0 s^{4} + 20750.0 s^{3} + 240000.0 s^{2} + 250000.0 s + 1000000.0} & \\frac{1000.0 s + 20750.0}{1000.0 s^{4} + 20750.0 s^{3} + 240000.0 s^{2} + 250000.0 s + 1000000.0} & \\frac{1000.0}{1000.0 s^{4} + 20750.0 s^{3} + 240000.0 s^{2} + 250000.0 s + 1000000.0}\\\\- \\frac{1000.0}{1.0 s^{4} + 20.75 s^{3} + 240.0 s^{2} + 250.0 s + 1000.0} & \\frac{1.0 s^{3} + 20.75 s^{2} + 240.0 s}{1.0 s^{4} + 20.75 s^{3} + 240.0 s^{2} + 250.0 s + 1000.0} & \\frac{1.0 s^{2} + 20.75 s}{1.0 s^{4} + 20.75 s^{3} + 240.0 s^{2} + 250.0 s + 1000.0} & \\frac{1.0 s}{1.0 s^{4} + 20.75 s^{3} + 240.0 s^{2} + 250.0 s + 1000.0}\\\\- \\frac{1000.0 s}{1.0 s^{4} + 20.75 s^{3} + 240.0 s^{2} + 250.0 s + 1000.0} & \\frac{- 250.0 s - 1000.0}{1.0 s^{4} + 20.75 s^{3} + 240.0 s^{2} + 250.0 s + 1000.0} & \\frac{1.0 s^{3} + 20.75 s^{2}}{1.0 s^{4} + 20.75 s^{3} + 240.0 s^{2} + 250.0 s + 1000.0} & \\frac{1.0 s^{2}}{1.0 s^{4} + 20.75 s^{3} + 240.0 s^{2} + 250.0 s + 1000.0}\\\\- \\frac{1000.0 s^{2}}{1.0 s^{4} + 20.75 s^{3} + 240.0 s^{2} + 250.0 s + 1000.0} & \\frac{- 250.0 s^{2} - 1000.0 s}{1.0 s^{4} + 20.75 s^{3} + 240.0 s^{2} + 250.0 s + 1000.0} & \\frac{- 240.0 s^{2} - 250.0 s - 1000.0}{1.0 s^{4} + 20.75 s^{3} + 240.0 s^{2} + 250.0 s + 1000.0} & \\frac{1.0 s^{3}}{1.0 s^{4} + 20.75 s^{3} + 240.0 s^{2} + 250.0 s + 1000.0}\\end{matrix}\\right]$"
      ],
      "text/plain": [
       "Matrix([\n",
       "[(1000.0*s**3 + 20750.0*s**2 + 240000.0*s + 250000.0)/(1000.0*s**4 + 20750.0*s**3 + 240000.0*s**2 + 250000.0*s + 1000000.0), (1000.0*s**2 + 20750.0*s + 240000.0)/(1000.0*s**4 + 20750.0*s**3 + 240000.0*s**2 + 250000.0*s + 1000000.0), (1000.0*s + 20750.0)/(1000.0*s**4 + 20750.0*s**3 + 240000.0*s**2 + 250000.0*s + 1000000.0), 1000.0/(1000.0*s**4 + 20750.0*s**3 + 240000.0*s**2 + 250000.0*s + 1000000.0)],\n",
       "[                                                           -1000.0/(1.0*s**4 + 20.75*s**3 + 240.0*s**2 + 250.0*s + 1000.0),                  (1.0*s**3 + 20.75*s**2 + 240.0*s)/(1.0*s**4 + 20.75*s**3 + 240.0*s**2 + 250.0*s + 1000.0),               (1.0*s**2 + 20.75*s)/(1.0*s**4 + 20.75*s**3 + 240.0*s**2 + 250.0*s + 1000.0),                1.0*s/(1.0*s**4 + 20.75*s**3 + 240.0*s**2 + 250.0*s + 1000.0)],\n",
       "[                                                         -1000.0*s/(1.0*s**4 + 20.75*s**3 + 240.0*s**2 + 250.0*s + 1000.0),                                (-250.0*s - 1000.0)/(1.0*s**4 + 20.75*s**3 + 240.0*s**2 + 250.0*s + 1000.0),            (1.0*s**3 + 20.75*s**2)/(1.0*s**4 + 20.75*s**3 + 240.0*s**2 + 250.0*s + 1000.0),             1.0*s**2/(1.0*s**4 + 20.75*s**3 + 240.0*s**2 + 250.0*s + 1000.0)],\n",
       "[                                                      -1000.0*s**2/(1.0*s**4 + 20.75*s**3 + 240.0*s**2 + 250.0*s + 1000.0),                           (-250.0*s**2 - 1000.0*s)/(1.0*s**4 + 20.75*s**3 + 240.0*s**2 + 250.0*s + 1000.0),   (-240.0*s**2 - 250.0*s - 1000.0)/(1.0*s**4 + 20.75*s**3 + 240.0*s**2 + 250.0*s + 1000.0),             1.0*s**3/(1.0*s**4 + 20.75*s**3 + 240.0*s**2 + 250.0*s + 1000.0)]])"
      ]
     },
     "execution_count": 41,
     "metadata": {},
     "output_type": "execute_result"
    }
   ],
   "source": [
    "phi = (s*I - A).inv()\n",
    "phi"
   ]
  },
  {
   "cell_type": "code",
   "execution_count": 42,
   "id": "bd352c0c",
   "metadata": {
    "scrolled": true
   },
   "outputs": [],
   "source": [
    "t, s = sp.symbols('t s')\n",
    "phi = phi.applyfunc(lambda f: sp.inverse_laplace_transform(f, s, t))"
   ]
  },
  {
   "cell_type": "markdown",
   "id": "34249826",
   "metadata": {},
   "source": [
    "- Assumindo todas as condições iniciais unitárias, ou seja, $x_1(0) = x_2(0) = x_3(0) = x_4(0) = 1$, e assim é possível criar a matriz inicial $x(0)$"
   ]
  },
  {
   "cell_type": "code",
   "execution_count": 43,
   "id": "e917f8f3",
   "metadata": {},
   "outputs": [
    {
     "data": {
      "text/latex": [
       "$\\displaystyle \\left[\\begin{matrix}0\\\\0\\\\1\\\\0\\end{matrix}\\right]$"
      ],
      "text/plain": [
       "Matrix([\n",
       "[0],\n",
       "[0],\n",
       "[1],\n",
       "[0]])"
      ]
     },
     "execution_count": 43,
     "metadata": {},
     "output_type": "execute_result"
    }
   ],
   "source": [
    "Xo = sp.Matrix([[0], [0], [1], [0]])\n",
    "Xo"
   ]
  },
  {
   "cell_type": "markdown",
   "id": "c01fa95f",
   "metadata": {},
   "source": [
    "- Encontrando $\\varPhi_2 = \\varPhi(t-\\tau)$"
   ]
  },
  {
   "cell_type": "code",
   "execution_count": 44,
   "id": "05b712f0",
   "metadata": {
    "scrolled": true
   },
   "outputs": [],
   "source": [
    "t, tau = sp.symbols('t tau')\n",
    "phi_2 = phi.applyfunc(lambda f: f.subs(t, (t - tau)))"
   ]
  },
  {
   "cell_type": "markdown",
   "id": "88de6c6e",
   "metadata": {},
   "source": [
    "- Voltando ao espaço de estados dependente do tempo $x(t) = \\varPhi(\\tau)\\cdot x(0) + \\int_0^t\\varPhi(t-\\tau)\\cdot B\\cdot u(\\tau)\\,d\\tau$"
   ]
  },
  {
   "cell_type": "code",
   "execution_count": 45,
   "id": "cc69bc95",
   "metadata": {
    "scrolled": true
   },
   "outputs": [
    {
     "data": {
      "text/latex": [
       "$\\displaystyle \\left[\\begin{matrix}- 0.01 e^{- 10.01 t} \\sin{\\left(10.99 t \\right)} \\theta\\left(t\\right) + 0.05 e^{- 0.36 t} \\sin{\\left(2.1 t \\right)} \\theta\\left(t\\right) - 0.01 e^{- 0.36 t} \\cos{\\left(2.1 t \\right)} \\theta\\left(t\\right)\\\\0.01 e^{- 10.01 t} \\sin{\\left(10.99 t \\right)} \\theta\\left(t\\right) - 0.1 e^{- 10.01 t} \\cos{\\left(10.99 t \\right)} \\theta\\left(t\\right) - 0.01 e^{- 0.36 t} \\sin{\\left(2.1 t \\right)} \\theta\\left(t\\right) + 0.1 e^{- 0.36 t} \\cos{\\left(2.1 t \\right)} \\theta\\left(t\\right)\\\\0.99 e^{- 10.01 t} \\sin{\\left(10.99 t \\right)} \\theta\\left(t\\right) + 1.05 e^{- 10.01 t} \\cos{\\left(10.99 t \\right)} \\theta\\left(t\\right) - 0.2 e^{- 0.36 t} \\sin{\\left(2.1 t \\right)} \\theta\\left(t\\right) - 0.05 e^{- 0.36 t} \\cos{\\left(2.1 t \\right)} \\theta\\left(t\\right)\\\\- 21.43 e^{- 10.01 t} \\sin{\\left(10.99 t \\right)} \\theta\\left(t\\right) + 0.4 e^{- 10.01 t} \\cos{\\left(10.99 t \\right)} \\theta\\left(t\\right) + 0.17 e^{- 0.36 t} \\sin{\\left(2.1 t \\right)} \\theta\\left(t\\right) - 0.4 e^{- 0.36 t} \\cos{\\left(2.1 t \\right)} \\theta\\left(t\\right)\\end{matrix}\\right]$"
      ],
      "text/plain": [
       "Matrix([\n",
       "[                                            -0.e-2*exp(-10.01*t)*sin(10.99*t)*Heaviside(t) + 0.05*exp(-0.36*t)*sin(2.1*t)*Heaviside(t) - 0.e-2*exp(-0.36*t)*cos(2.1*t)*Heaviside(t)],\n",
       "[ 0.01*exp(-10.01*t)*sin(10.99*t)*Heaviside(t) - 0.1*exp(-10.01*t)*cos(10.99*t)*Heaviside(t) - 0.e-2*exp(-0.36*t)*sin(2.1*t)*Heaviside(t) + 0.1*exp(-0.36*t)*cos(2.1*t)*Heaviside(t)],\n",
       "[ 0.99*exp(-10.01*t)*sin(10.99*t)*Heaviside(t) + 1.05*exp(-10.01*t)*cos(10.99*t)*Heaviside(t) - 0.2*exp(-0.36*t)*sin(2.1*t)*Heaviside(t) - 0.05*exp(-0.36*t)*cos(2.1*t)*Heaviside(t)],\n",
       "[-21.43*exp(-10.01*t)*sin(10.99*t)*Heaviside(t) + 0.4*exp(-10.01*t)*cos(10.99*t)*Heaviside(t) + 0.17*exp(-0.36*t)*sin(2.1*t)*Heaviside(t) - 0.4*exp(-0.36*t)*cos(2.1*t)*Heaviside(t)]])"
      ]
     },
     "execution_count": 45,
     "metadata": {},
     "output_type": "execute_result"
    }
   ],
   "source": [
    "def roundSympyFunction(expr, num_digits=2):\n",
    "    return expr.xreplace({n : round(n, num_digits) for n in expr.atoms(sp.Float)})\n",
    "\n",
    "x = phi*Xo + (phi_2*B*1).applyfunc(lambda f: sp.integrate(f, (tau, 0, t)))\n",
    "\n",
    "x = x.applyfunc(lambda exp: sp.expand(exp))\n",
    "x = x.applyfunc(lambda exp: roundSympyFunction(exp))\n",
    "x"
   ]
  },
  {
   "cell_type": "code",
   "execution_count": 52,
   "id": "7b6b7821",
   "metadata": {},
   "outputs": [
    {
     "data": {
      "image/png": "[encoded data removed]",
      "text/plain": [
       "<Figure size 1000x600 with 4 Axes>"
      ]
     },
     "metadata": {},
     "output_type": "display_data"
    }
   ],
   "source": [
    "plt.figure(figsize=(10, 6))\n",
    "plt.subplots_adjust(hspace=0.25)\n",
    "xData = list(np.linspace(0, 10, 100))\n",
    "\n",
    "# PLOTANDO O GRÁFICO DE X1\n",
    "yData = [sp.re(x[0].subs(t, c)) for c in xData]\n",
    "plt.subplot(2, 2, 1)\n",
    "plt.title('Gráfico de $x_1(t)$')\n",
    "plt.plot(xData, yData)\n",
    "\n",
    "# PLOTANDO O GRÁFICO DE X2\n",
    "yData = [sp.re(x[1].subs(t, c)) for c in xData]\n",
    "plt.subplot(2, 2, 2)\n",
    "plt.title('Gráfico de $x_2(t)$')\n",
    "plt.plot(xData, yData)\n",
    "\n",
    "# PLOTANDO O GRÁFICO DE X3\n",
    "yData = [sp.re(x[2].subs(t, c)) for c in xData]\n",
    "plt.subplot(2, 2, 3)\n",
    "plt.title('Gráfico de $x_3(t)$')\n",
    "plt.plot(xData, yData)\n",
    "\n",
    "# PLOTANDO O GRÁFICO DE X4\n",
    "yData = [sp.re(x[3].subs(t, c)) for c in xData]\n",
    "plt.subplot(2, 2, 4)\n",
    "plt.title('Gráfico de $x_4(t)$')\n",
    "plt.plot(xData, yData)\n",
    "\n",
    "plt.show()"
   ]
  },
  {
   "cell_type": "markdown",
   "id": "5db67e42",
   "metadata": {},
   "source": [
    "- Encontrando agora a saída $x(t) = Cx + Du(t)$"
   ]
  },
  {
   "cell_type": "code",
   "execution_count": 47,
   "id": "b75e0499",
   "metadata": {},
   "outputs": [
    {
     "data": {
      "text/latex": [
       "$\\displaystyle 0.01 e^{- 10.01 t} \\sin{\\left(10.99 t \\right)} \\theta\\left(t\\right) - 0.1 e^{- 10.01 t} \\cos{\\left(10.99 t \\right)} \\theta\\left(t\\right) - 0.01 e^{- 0.36 t} \\sin{\\left(2.1 t \\right)} \\theta\\left(t\\right) + 0.1 e^{- 0.36 t} \\cos{\\left(2.1 t \\right)} \\theta\\left(t\\right)$"
      ],
      "text/plain": [
       "0.01*exp(-10.01*t)*sin(10.99*t)*Heaviside(t) - 0.1*exp(-10.01*t)*cos(10.99*t)*Heaviside(t) - 0.e-2*exp(-0.36*t)*sin(2.1*t)*Heaviside(t) + 0.1*exp(-0.36*t)*cos(2.1*t)*Heaviside(t)"
      ]
     },
     "execution_count": 47,
     "metadata": {},
     "output_type": "execute_result"
    }
   ],
   "source": [
    "y = C*x\n",
    "y = sp.expand(y[0])\n",
    "y = roundSympyFunction(y, 2)\n",
    "y"
   ]
  },
  {
   "cell_type": "markdown",
   "id": "49d9e60a",
   "metadata": {},
   "source": [
    "## CONTROLE POR REALIMENTAÇÃO DE ESTADOS\n",
    "$Ã = A - BK$\n",
    "\n",
    "$K = \\rho\\, C^{-1} \\, \\Delta(A)$\n",
    "\n",
    "Queremos encontrar os polos do sistema para:\n",
    "\n",
    "- $UP\\% = 20\\% = 0.2$\n",
    "- $\\zeta = 0.624$\n",
    "- $\\theta = 51.39^\\circ$\n",
    "\n",
    "Com isso temos um $s = -7.64 \\pm 9.56j $"
   ]
  },
  {
   "cell_type": "code",
   "execution_count": 48,
   "id": "eab8a9b8",
   "metadata": {},
   "outputs": [
    {
     "data": {
      "text/latex": [
       "$\\displaystyle \\left[\\begin{matrix}0 & 0 & 0 & 1.0\\\\0 & 0 & 1.0 & -20.75\\\\0 & 1.0 & -20.75 & 190.5625\\\\1.0 & -20.75 & 190.5625 & 775.828125\\end{matrix}\\right]$"
      ],
      "text/plain": [
       "Matrix([\n",
       "[  0,      0,        0,        1.0],\n",
       "[  0,      0,      1.0,     -20.75],\n",
       "[  0,    1.0,   -20.75,   190.5625],\n",
       "[1.0, -20.75, 190.5625, 775.828125]])"
      ]
     },
     "metadata": {},
     "output_type": "display_data"
    },
    {
     "data": {
      "text/latex": [
       "$\\displaystyle \\left[\\begin{matrix}0 & 0 & 0 & 1\\end{matrix}\\right]$"
      ],
      "text/plain": [
       "Matrix([[0, 0, 0, 1]])"
      ]
     },
     "metadata": {},
     "output_type": "display_data"
    },
    {
     "data": {
      "text/latex": [
       "$\\displaystyle s^{2} + 15.28 s + 149.7632$"
      ],
      "text/plain": [
       "s**2 + 15.28*s + 149.7632"
      ]
     },
     "metadata": {},
     "output_type": "display_data"
    }
   ],
   "source": [
    "A, B, C, D = getVariaveisFase(G)\n",
    "s = sp.symbols('s')\n",
    "I = sp.eye(4)\n",
    "j = sp.I\n",
    "\n",
    "s1 = -7.64 + 9.56*j\n",
    "s2 = -7.64 - 9.56*j\n",
    "\n",
    "c     = sp.Matrix(np.column_stack([B, A@B, A@A@B, A@A@A@B]))\n",
    "rho   = sp.Matrix([[0,0, 0, 1]])\n",
    "delta = sp.expand((s-s1)*(s-s2))\n",
    " \n",
    "display(c)\n",
    "display(rho)\n",
    "display(delta)"
   ]
  },
  {
   "cell_type": "code",
   "execution_count": 49,
   "id": "2826fdd9",
   "metadata": {},
   "outputs": [
    {
     "data": {
      "text/latex": [
       "$\\displaystyle \\left[\\begin{matrix}149.7632 & 16.28 & 0 & 0\\end{matrix}\\right]$"
      ],
      "text/plain": [
       "Matrix([[149.7632, 16.28, 0, 0]])"
      ]
     },
     "execution_count": 49,
     "metadata": {},
     "output_type": "execute_result"
    }
   ],
   "source": [
    "def deltaFunc(matrix):\n",
    "    return matrix**2 + 15.28*matrix + 149.7632*sp.eye(4)\n",
    "\n",
    "K = rho * c.inv() * deltaFunc(A)\n",
    "K"
   ]
  },
  {
   "cell_type": "code",
   "execution_count": 50,
   "id": "e27e3056",
   "metadata": {},
   "outputs": [
    {
     "data": {
      "text/latex": [
       "$\\displaystyle \\frac{1.0 s}{1.0 s^{4} + 20.75 s^{3} + 240.0 s^{2} + 266.28 s + 1149.7632}$"
      ],
      "text/plain": [
       "1.0*s/(1.0*s**4 + 20.75*s**3 + 240.0*s**2 + 266.28*s + 1149.7632)"
      ]
     },
     "execution_count": 50,
     "metadata": {},
     "output_type": "execute_result"
    }
   ],
   "source": [
    "A = A - B*K\n",
    "\n",
    "Tf = C * (s*I - A).inv() * B + D\n",
    "Tf[0]"
   ]
  }
 ],
 "metadata": {
  "kernelspec": {
   "display_name": "Python 3 (ipykernel)",
   "language": "python",
   "name": "python3"
  },
  "language_info": {
   "codemirror_mode": {
    "name": "ipython",
    "version": 3
   },
   "file_extension": ".py",
   "mimetype": "text/x-python",
   "name": "python",
   "nbconvert_exporter": "python",
   "pygments_lexer": "ipython3",
   "version": "3.10.12"
  }
 },
 "nbformat": 4,
 "nbformat_minor": 5
}
