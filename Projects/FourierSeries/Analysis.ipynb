{
 "cells": [
  {
   "cell_type": "code",
   "execution_count": 1,
   "metadata": {},
   "outputs": [],
   "source": [
    "import matplotlib.pyplot as plt\n",
    "import numpy as np\n",
    "import sympy as sp\n",
    "from numpy import pi"
   ]
  },
  {
   "cell_type": "markdown",
   "metadata": {},
   "source": [
    "# SÉRIE DE FOURIER\n",
    "\n",
    "- Criando uma onda quadrada de amplitude $A = 5$ e período $T = 2\\pi$. Lembrando que $y(t) = A\\, sin(2\\pi f t)$\n",
    "\n",
    "$$y(t) = a_0 + \\sum_{n=1}^\\infty(a_n\\,cos(n\\omega t) + b_n\\,sen(n\\omega t))$$\n",
    "\n",
    "- $a_0 = \\frac{1}{T} \\int_0^T f(t)\\,dt$\n",
    "\n",
    "- $a_n = \\frac{2}{T} \\int_0^T f(t)\\,cos(nt)\\,dt$\n",
    "\n",
    "- $b_n = \\frac{2}{T} \\int_0^T f(t)\\,sen(nt)\\,dt$\n",
    "\n",
    "\n",
    "- Lembrando que $\\int_0^T = \\int_0^\\frac{T}{2} + \\int_\\frac{T}{2}^T$"
   ]
  },
  {
   "cell_type": "code",
   "execution_count": 2,
   "metadata": {},
   "outputs": [
    {
     "data": {
      "image/png": "[encoded data removed]",
      "text/plain": [
       "<Figure size 640x480 with 1 Axes>"
      ]
     },
     "metadata": {},
     "output_type": "display_data"
    }
   ],
   "source": [
    "def squareWave(A, T, t):\n",
    "    F = 1/T\n",
    "    f = np.sin(2*pi*F * t)\n",
    "    return A*np.sign(f)\n",
    "\n",
    "t = np.linspace(0, 5*pi, 1000)\n",
    "y = squareWave(5, 2*pi, t)\n",
    "\n",
    "plt.plot(t, y)\n",
    "plt.yticks([c for c in range(-5, 6, 5)])\n",
    "plt.show()"
   ]
  },
  {
   "cell_type": "code",
   "execution_count": 3,
   "metadata": {},
   "outputs": [],
   "source": [
    "T = 2*pi\n",
    "A = 5\n",
    "omega = 2*pi/T\n",
    "t = sp.symbols('t')"
   ]
  },
  {
   "cell_type": "code",
   "execution_count": 4,
   "metadata": {},
   "outputs": [
    {
     "data": {
      "text/latex": [
       "$\\displaystyle 0$"
      ],
      "text/plain": [
       "0"
      ]
     },
     "execution_count": 4,
     "metadata": {},
     "output_type": "execute_result"
    }
   ],
   "source": [
    "integral = sp.integrate(A, (t, 0, T/2)) + sp.integrate(-A, (t, T/2, T))\n",
    "\n",
    "a0 = 1/T * integral\n",
    "a0"
   ]
  },
  {
   "cell_type": "code",
   "execution_count": 5,
   "metadata": {},
   "outputs": [],
   "source": [
    "y = a0\n",
    "\n",
    "for n in range(1, 100):\n",
    "    integral = sp.integrate(A*sp.cos(n*t), (t, 0, T/2)) + sp.integrate(-A*sp.cos(n*t), (t, T/2, T))\n",
    "    an = 2/T * integral\n",
    "\n",
    "    integral = sp.integrate(A*sp.sin(n*t), (t, 0, T/2)) + sp.integrate(-A*sp.sin(n*t), (t, T/2, T))\n",
    "    bn = 2/T * integral\n",
    "\n",
    "    y += an*sp.cos(n*omega*t) + bn*sp.sin(n*omega*t)"
   ]
  },
  {
   "cell_type": "code",
   "execution_count": 6,
   "metadata": {},
   "outputs": [
    {
     "data": {
      "text/latex": [
       "$\\displaystyle 6.366 \\sin{\\left(1.0 t \\right)} + 2.122 \\sin{\\left(3.0 t \\right)} + 1.273 \\sin{\\left(5.0 t \\right)} + 0.909 \\sin{\\left(7.0 t \\right)} + 0.707 \\sin{\\left(9.0 t \\right)} + 0.579 \\sin{\\left(11.0 t \\right)} + 0.49 \\sin{\\left(13.0 t \\right)} + 0.424 \\sin{\\left(15.0 t \\right)} + 0.374 \\sin{\\left(17.0 t \\right)} + 0.335 \\sin{\\left(19.0 t \\right)} + 0.303 \\sin{\\left(21.0 t \\right)} + 0.277 \\sin{\\left(23.0 t \\right)} + 0.255 \\sin{\\left(25.0 t \\right)} + 0.236 \\sin{\\left(27.0 t \\right)} + 0.22 \\sin{\\left(29.0 t \\right)} + 0.205 \\sin{\\left(31.0 t \\right)} + 0.193 \\sin{\\left(33.0 t \\right)} + 0.182 \\sin{\\left(35.0 t \\right)} + 0.172 \\sin{\\left(37.0 t \\right)} + 0.163 \\sin{\\left(39.0 t \\right)} + 0.155 \\sin{\\left(41.0 t \\right)} + 0.148 \\sin{\\left(43.0 t \\right)} + 0.141 \\sin{\\left(45.0 t \\right)} + 0.135 \\sin{\\left(47.0 t \\right)} + 0.13 \\sin{\\left(49.0 t \\right)} + 0.125 \\sin{\\left(51.0 t \\right)} + 0.12 \\sin{\\left(53.0 t \\right)} + 0.116 \\sin{\\left(55.0 t \\right)} + 0.112 \\sin{\\left(57.0 t \\right)} + 0.108 \\sin{\\left(59.0 t \\right)} + 0.104 \\sin{\\left(61.0 t \\right)} + 0.101 \\sin{\\left(63.0 t \\right)} + 0.098 \\sin{\\left(65.0 t \\right)} + 0.095 \\sin{\\left(67.0 t \\right)} + 0.092 \\sin{\\left(69.0 t \\right)} + 0.09 \\sin{\\left(71.0 t \\right)} + 0.087 \\sin{\\left(73.0 t \\right)} + 0.085 \\sin{\\left(75.0 t \\right)} + 0.083 \\sin{\\left(77.0 t \\right)} + 0.081 \\sin{\\left(79.0 t \\right)} + 0.079 \\sin{\\left(81.0 t \\right)} + 0.077 \\sin{\\left(83.0 t \\right)} + 0.075 \\sin{\\left(85.0 t \\right)} + 0.073 \\sin{\\left(87.0 t \\right)} + 0.072 \\sin{\\left(89.0 t \\right)} + 0.07 \\sin{\\left(91.0 t \\right)} + 0.068 \\sin{\\left(93.0 t \\right)} + 0.067 \\sin{\\left(95.0 t \\right)} + 0.066 \\sin{\\left(97.0 t \\right)} + 0.064 \\sin{\\left(99.0 t \\right)}$"
      ],
      "text/plain": [
       "6.366*sin(1.0*t) + 2.122*sin(3.0*t) + 1.273*sin(5.0*t) + 0.909*sin(7.0*t) + 0.707*sin(9.0*t) + 0.579*sin(11.0*t) + 0.49*sin(13.0*t) + 0.424*sin(15.0*t) + 0.374*sin(17.0*t) + 0.335*sin(19.0*t) + 0.303*sin(21.0*t) + 0.277*sin(23.0*t) + 0.255*sin(25.0*t) + 0.236*sin(27.0*t) + 0.22*sin(29.0*t) + 0.205*sin(31.0*t) + 0.193*sin(33.0*t) + 0.182*sin(35.0*t) + 0.172*sin(37.0*t) + 0.163*sin(39.0*t) + 0.155*sin(41.0*t) + 0.148*sin(43.0*t) + 0.141*sin(45.0*t) + 0.135*sin(47.0*t) + 0.13*sin(49.0*t) + 0.125*sin(51.0*t) + 0.12*sin(53.0*t) + 0.116*sin(55.0*t) + 0.112*sin(57.0*t) + 0.108*sin(59.0*t) + 0.104*sin(61.0*t) + 0.101*sin(63.0*t) + 0.098*sin(65.0*t) + 0.095*sin(67.0*t) + 0.092*sin(69.0*t) + 0.09*sin(71.0*t) + 0.087*sin(73.0*t) + 0.085*sin(75.0*t) + 0.083*sin(77.0*t) + 0.081*sin(79.0*t) + 0.079*sin(81.0*t) + 0.077*sin(83.0*t) + 0.075*sin(85.0*t) + 0.073*sin(87.0*t) + 0.072*sin(89.0*t) + 0.07*sin(91.0*t) + 0.068*sin(93.0*t) + 0.067*sin(95.0*t) + 0.066*sin(97.0*t) + 0.064*sin(99.0*t)"
      ]
     },
     "execution_count": 6,
     "metadata": {},
     "output_type": "execute_result"
    }
   ],
   "source": [
    "def roundSympyFunction(expr, num_digits=3):\n",
    "    return expr.xreplace({n: round(n, num_digits) for n in expr.atoms(sp.Float)})\n",
    "\n",
    "y = roundSympyFunction(y)\n",
    "y"
   ]
  },
  {
   "cell_type": "code",
   "execution_count": 7,
   "metadata": {},
   "outputs": [
    {
     "data": {
      "text/plain": [
       "-8.022077863502981e-14"
      ]
     },
     "execution_count": 7,
     "metadata": {},
     "output_type": "execute_result"
    }
   ],
   "source": [
    "y = sp.lambdify(t, y, modules=['numpy'])\n",
    "y(2*pi)"
   ]
  },
  {
   "cell_type": "code",
   "execution_count": 8,
   "metadata": {},
   "outputs": [],
   "source": [
    "tData = np.linspace(0, 10*pi, 1000)\n",
    "yData = y(tData)"
   ]
  },
  {
   "cell_type": "code",
   "execution_count": 9,
   "metadata": {},
   "outputs": [
    {
     "data": {
      "text/plain": [
       "([<matplotlib.axis.YTick at 0x2043a40b800>,\n",
       "  <matplotlib.axis.YTick at 0x2043a40b260>,\n",
       "  <matplotlib.axis.YTick at 0x2043a3ea990>],\n",
       " [Text(0, -5, '−5'), Text(0, 0, '0'), Text(0, 5, '5')])"
      ]
     },
     "execution_count": 9,
     "metadata": {},
     "output_type": "execute_result"
    },
    {
     "data": {
      "image/png": "[encoded data removed]",
      "text/plain": [
       "<Figure size 640x480 with 1 Axes>"
      ]
     },
     "metadata": {},
     "output_type": "display_data"
    }
   ],
   "source": [
    "plt.plot(tData, yData)\n",
    "plt.yticks([c for c in range(-5, 6, 5)])"
   ]
  },
  {
   "cell_type": "code",
   "execution_count": null,
   "metadata": {},
   "outputs": [],
   "source": []
  }
 ],
 "metadata": {
  "kernelspec": {
   "display_name": "Python 3",
   "language": "python",
   "name": "python3"
  },
  "language_info": {
   "codemirror_mode": {
    "name": "ipython",
    "version": 3
   },
   "file_extension": ".py",
   "mimetype": "text/x-python",
   "name": "python",
   "nbconvert_exporter": "python",
   "pygments_lexer": "ipython3",
   "version": "3.12.3"
  }
 },
 "nbformat": 4,
 "nbformat_minor": 2
}
