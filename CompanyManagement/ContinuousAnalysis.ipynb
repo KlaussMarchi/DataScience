{
 "cells": [
  {
   "cell_type": "code",
   "execution_count": 206,
   "metadata": {},
   "outputs": [],
   "source": [
    "import pandas as pd\n",
    "import matplotlib.pyplot as plt\n",
    "import numpy as np\n",
    "import json\n",
    "\n",
    "import sympy as sp\n",
    "from scipy.optimize import curve_fit, OptimizeWarning\n",
    "import warnings\n",
    "warnings.filterwarnings(\"ignore\", category=RuntimeWarning)\n",
    "warnings.filterwarnings(\"ignore\", category=OptimizeWarning)"
   ]
  },
  {
   "cell_type": "markdown",
   "metadata": {},
   "source": [
    "# LUCRO\n",
    "O objetivo é encontrar os parâmetros necessários para se obter o lucro máximo em certos produtos do restaurante, o lucro é definido por\n",
    "\n",
    "$$L(p, q) = \\text{Receita} - \\text{Custo}$$\n",
    "\n",
    "Como a receita é dada pelo produto do preço vendido e a quantidade vendida, pode-se reduzir a formula a:\n",
    "\n",
    "$$L(p, q) = R(p, q) - C_V - C_F$$\n",
    "\n",
    "$$L(p, q) = p \\cdot q - q \\cdot C_{VI} - C_{FI}$$\n",
    "\n",
    "Onde $C_{VI}$ é o custo variável daquele produto e $C_{FI}$ é o custo fixo individual daquele produto, ou seja, a parcela dos custos fixos que aquele produto deve cobrir com base nas suas vendas. \n"
   ]
  },
  {
   "cell_type": "code",
   "execution_count": 207,
   "metadata": {},
   "outputs": [
    {
     "data": {
      "text/plain": [
       "['CustosVariaveis', 'CustosFixos', 'Pratos', 'CustosExtras', 'Vendas']"
      ]
     },
     "execution_count": 207,
     "metadata": {},
     "output_type": "execute_result"
    }
   ],
   "source": [
    "desiredProduct = 'Hambúrguer'\n",
    "pd.ExcelFile('Products.xlsx').sheet_names"
   ]
  },
  {
   "cell_type": "markdown",
   "metadata": {},
   "source": [
    "### ENCONTRANDO O PRODUTO DESEJADO"
   ]
  },
  {
   "cell_type": "code",
   "execution_count": 208,
   "metadata": {},
   "outputs": [
    {
     "data": {
      "text/html": [
       "<div>\n",
       "<style scoped>\n",
       "    .dataframe tbody tr th:only-of-type {\n",
       "        vertical-align: middle;\n",
       "    }\n",
       "\n",
       "    .dataframe tbody tr th {\n",
       "        vertical-align: top;\n",
       "    }\n",
       "\n",
       "    .dataframe thead th {\n",
       "        text-align: right;\n",
       "    }\n",
       "</style>\n",
       "<table border=\"1\" class=\"dataframe\">\n",
       "  <thead>\n",
       "    <tr style=\"text-align: right;\">\n",
       "      <th></th>\n",
       "      <th>Nome do Prato</th>\n",
       "      <th>Ingredientes</th>\n",
       "    </tr>\n",
       "  </thead>\n",
       "  <tbody>\n",
       "    <tr>\n",
       "      <th>0</th>\n",
       "      <td>Pizza</td>\n",
       "      <td>[{\"ingrediente\": \"Massa de Pizza\", \"Quantidade...</td>\n",
       "    </tr>\n",
       "    <tr>\n",
       "      <th>1</th>\n",
       "      <td>Hambúrguer</td>\n",
       "      <td>[{\"ingrediente\": \"Carne\", \"Quantidade Comprada...</td>\n",
       "    </tr>\n",
       "    <tr>\n",
       "      <th>2</th>\n",
       "      <td>Salada Caesar</td>\n",
       "      <td>[{\"ingrediente\": \"Alface\", \"Quantidade Comprad...</td>\n",
       "    </tr>\n",
       "    <tr>\n",
       "      <th>3</th>\n",
       "      <td>Frango Assado</td>\n",
       "      <td>[{\"ingrediente\": \"Frango\", \"Quantidade Comprad...</td>\n",
       "    </tr>\n",
       "    <tr>\n",
       "      <th>4</th>\n",
       "      <td>Risoto de Camarão</td>\n",
       "      <td>[{\"ingrediente\": \"Arroz\", \"Quantidade Comprada...</td>\n",
       "    </tr>\n",
       "  </tbody>\n",
       "</table>\n",
       "</div>"
      ],
      "text/plain": [
       "       Nome do Prato                                       Ingredientes\n",
       "0              Pizza  [{\"ingrediente\": \"Massa de Pizza\", \"Quantidade...\n",
       "1         Hambúrguer  [{\"ingrediente\": \"Carne\", \"Quantidade Comprada...\n",
       "2      Salada Caesar  [{\"ingrediente\": \"Alface\", \"Quantidade Comprad...\n",
       "3      Frango Assado  [{\"ingrediente\": \"Frango\", \"Quantidade Comprad...\n",
       "4  Risoto de Camarão  [{\"ingrediente\": \"Arroz\", \"Quantidade Comprada..."
      ]
     },
     "execution_count": 208,
     "metadata": {},
     "output_type": "execute_result"
    }
   ],
   "source": [
    "plate_df = pd.read_excel('Products.xlsx', 'Pratos')\n",
    "plate_df.head()"
   ]
  },
  {
   "cell_type": "code",
   "execution_count": 209,
   "metadata": {},
   "outputs": [
    {
     "data": {
      "text/plain": [
       "Nome do Prato                                           Hambúrguer\n",
       "Ingredientes     [{\"ingrediente\": \"Carne\", \"Quantidade Comprada...\n",
       "Name: 1, dtype: object"
      ]
     },
     "execution_count": 209,
     "metadata": {},
     "output_type": "execute_result"
    }
   ],
   "source": [
    "target = plate_df[plate_df['Nome do Prato'] == desiredProduct].iloc[0]\n",
    "target"
   ]
  },
  {
   "cell_type": "code",
   "execution_count": 210,
   "metadata": {},
   "outputs": [
    {
     "data": {
      "text/html": [
       "<div>\n",
       "<style scoped>\n",
       "    .dataframe tbody tr th:only-of-type {\n",
       "        vertical-align: middle;\n",
       "    }\n",
       "\n",
       "    .dataframe tbody tr th {\n",
       "        vertical-align: top;\n",
       "    }\n",
       "\n",
       "    .dataframe thead th {\n",
       "        text-align: right;\n",
       "    }\n",
       "</style>\n",
       "<table border=\"1\" class=\"dataframe\">\n",
       "  <thead>\n",
       "    <tr style=\"text-align: right;\">\n",
       "      <th></th>\n",
       "      <th>Nome</th>\n",
       "      <th>Quantidade Comprada</th>\n",
       "      <th>Volume Produzido</th>\n",
       "    </tr>\n",
       "  </thead>\n",
       "  <tbody>\n",
       "    <tr>\n",
       "      <th>0</th>\n",
       "      <td>Carne</td>\n",
       "      <td>2.5</td>\n",
       "      <td>20</td>\n",
       "    </tr>\n",
       "    <tr>\n",
       "      <th>1</th>\n",
       "      <td>Pão</td>\n",
       "      <td>20.0</td>\n",
       "      <td>20</td>\n",
       "    </tr>\n",
       "    <tr>\n",
       "      <th>2</th>\n",
       "      <td>Alface</td>\n",
       "      <td>2.0</td>\n",
       "      <td>20</td>\n",
       "    </tr>\n",
       "    <tr>\n",
       "      <th>3</th>\n",
       "      <td>Tomates</td>\n",
       "      <td>1.0</td>\n",
       "      <td>20</td>\n",
       "    </tr>\n",
       "    <tr>\n",
       "      <th>4</th>\n",
       "      <td>Queijo</td>\n",
       "      <td>0.5</td>\n",
       "      <td>20</td>\n",
       "    </tr>\n",
       "  </tbody>\n",
       "</table>\n",
       "</div>"
      ],
      "text/plain": [
       "      Nome  Quantidade Comprada  Volume Produzido\n",
       "0    Carne                  2.5                20\n",
       "1      Pão                 20.0                20\n",
       "2   Alface                  2.0                20\n",
       "3  Tomates                  1.0                20\n",
       "4   Queijo                  0.5                20"
      ]
     },
     "execution_count": 210,
     "metadata": {},
     "output_type": "execute_result"
    }
   ],
   "source": [
    "ingredientsInfo = pd.DataFrame(json.loads(target['Ingredientes']))\n",
    "ingredientsInfo.rename(columns={'ingrediente': 'Nome'}, inplace=True)\n",
    "\n",
    "ingredientsInfo"
   ]
  },
  {
   "cell_type": "markdown",
   "metadata": {},
   "source": [
    "- A nova coluna mostra a quantidade daquele ingrediente necessária para fazer aquele prato, por exemplo, são necessários 0.125 kg de carne para fazer 1 unidade daquele prato"
   ]
  },
  {
   "cell_type": "code",
   "execution_count": 211,
   "metadata": {},
   "outputs": [
    {
     "data": {
      "text/html": [
       "<div>\n",
       "<style scoped>\n",
       "    .dataframe tbody tr th:only-of-type {\n",
       "        vertical-align: middle;\n",
       "    }\n",
       "\n",
       "    .dataframe tbody tr th {\n",
       "        vertical-align: top;\n",
       "    }\n",
       "\n",
       "    .dataframe thead th {\n",
       "        text-align: right;\n",
       "    }\n",
       "</style>\n",
       "<table border=\"1\" class=\"dataframe\">\n",
       "  <thead>\n",
       "    <tr style=\"text-align: right;\">\n",
       "      <th></th>\n",
       "      <th>Nome</th>\n",
       "      <th>Quantidade Comprada</th>\n",
       "      <th>Volume Produzido</th>\n",
       "      <th>Quantidade/Unidade</th>\n",
       "    </tr>\n",
       "  </thead>\n",
       "  <tbody>\n",
       "    <tr>\n",
       "      <th>0</th>\n",
       "      <td>Carne</td>\n",
       "      <td>2.5</td>\n",
       "      <td>20</td>\n",
       "      <td>0.125</td>\n",
       "    </tr>\n",
       "    <tr>\n",
       "      <th>1</th>\n",
       "      <td>Pão</td>\n",
       "      <td>20.0</td>\n",
       "      <td>20</td>\n",
       "      <td>1.000</td>\n",
       "    </tr>\n",
       "    <tr>\n",
       "      <th>2</th>\n",
       "      <td>Alface</td>\n",
       "      <td>2.0</td>\n",
       "      <td>20</td>\n",
       "      <td>0.100</td>\n",
       "    </tr>\n",
       "    <tr>\n",
       "      <th>3</th>\n",
       "      <td>Tomates</td>\n",
       "      <td>1.0</td>\n",
       "      <td>20</td>\n",
       "      <td>0.050</td>\n",
       "    </tr>\n",
       "    <tr>\n",
       "      <th>4</th>\n",
       "      <td>Queijo</td>\n",
       "      <td>0.5</td>\n",
       "      <td>20</td>\n",
       "      <td>0.025</td>\n",
       "    </tr>\n",
       "  </tbody>\n",
       "</table>\n",
       "</div>"
      ],
      "text/plain": [
       "      Nome  Quantidade Comprada  Volume Produzido  Quantidade/Unidade\n",
       "0    Carne                  2.5                20               0.125\n",
       "1      Pão                 20.0                20               1.000\n",
       "2   Alface                  2.0                20               0.100\n",
       "3  Tomates                  1.0                20               0.050\n",
       "4   Queijo                  0.5                20               0.025"
      ]
     },
     "execution_count": 211,
     "metadata": {},
     "output_type": "execute_result"
    }
   ],
   "source": [
    "ingredientsInfo['Quantidade/Unidade'] = ingredientsInfo['Quantidade Comprada']/ingredientsInfo['Volume Produzido']\n",
    "ingredientsInfo"
   ]
  },
  {
   "cell_type": "markdown",
   "metadata": {},
   "source": [
    "### ENCONTRANDO OS CUSTOS VARIÁVEIS"
   ]
  },
  {
   "cell_type": "code",
   "execution_count": 212,
   "metadata": {},
   "outputs": [
    {
     "data": {
      "text/html": [
       "<div>\n",
       "<style scoped>\n",
       "    .dataframe tbody tr th:only-of-type {\n",
       "        vertical-align: middle;\n",
       "    }\n",
       "\n",
       "    .dataframe tbody tr th {\n",
       "        vertical-align: top;\n",
       "    }\n",
       "\n",
       "    .dataframe thead th {\n",
       "        text-align: right;\n",
       "    }\n",
       "</style>\n",
       "<table border=\"1\" class=\"dataframe\">\n",
       "  <thead>\n",
       "    <tr style=\"text-align: right;\">\n",
       "      <th></th>\n",
       "      <th>Nome</th>\n",
       "      <th>Quantidade Comprada</th>\n",
       "      <th>Unidade de Medida</th>\n",
       "      <th>Custo Total (R$)</th>\n",
       "    </tr>\n",
       "  </thead>\n",
       "  <tbody>\n",
       "    <tr>\n",
       "      <th>0</th>\n",
       "      <td>Carne</td>\n",
       "      <td>10</td>\n",
       "      <td>kg</td>\n",
       "      <td>300</td>\n",
       "    </tr>\n",
       "    <tr>\n",
       "      <th>1</th>\n",
       "      <td>Batatas</td>\n",
       "      <td>20</td>\n",
       "      <td>kg</td>\n",
       "      <td>60</td>\n",
       "    </tr>\n",
       "    <tr>\n",
       "      <th>2</th>\n",
       "      <td>Tomates</td>\n",
       "      <td>15</td>\n",
       "      <td>kg</td>\n",
       "      <td>45</td>\n",
       "    </tr>\n",
       "    <tr>\n",
       "      <th>3</th>\n",
       "      <td>Queijo</td>\n",
       "      <td>5</td>\n",
       "      <td>kg</td>\n",
       "      <td>80</td>\n",
       "    </tr>\n",
       "    <tr>\n",
       "      <th>4</th>\n",
       "      <td>Frango</td>\n",
       "      <td>10</td>\n",
       "      <td>kg</td>\n",
       "      <td>120</td>\n",
       "    </tr>\n",
       "  </tbody>\n",
       "</table>\n",
       "</div>"
      ],
      "text/plain": [
       "      Nome  Quantidade Comprada Unidade de Medida  Custo Total (R$)\n",
       "0    Carne                   10                kg               300\n",
       "1  Batatas                   20                kg                60\n",
       "2  Tomates                   15                kg                45\n",
       "3   Queijo                    5                kg                80\n",
       "4   Frango                   10                kg               120"
      ]
     },
     "execution_count": 212,
     "metadata": {},
     "output_type": "execute_result"
    }
   ],
   "source": [
    "ingredients_df = pd.read_excel('Products.xlsx', 'CustosVariaveis')\n",
    "ingredients_df.head()"
   ]
  },
  {
   "cell_type": "markdown",
   "metadata": {},
   "source": [
    "- Encontrando o custo variável unitário, ou seja, o preço necessário para comprar 1 unidade do ingrediente"
   ]
  },
  {
   "cell_type": "code",
   "execution_count": 213,
   "metadata": {},
   "outputs": [
    {
     "data": {
      "text/html": [
       "<div>\n",
       "<style scoped>\n",
       "    .dataframe tbody tr th:only-of-type {\n",
       "        vertical-align: middle;\n",
       "    }\n",
       "\n",
       "    .dataframe tbody tr th {\n",
       "        vertical-align: top;\n",
       "    }\n",
       "\n",
       "    .dataframe thead th {\n",
       "        text-align: right;\n",
       "    }\n",
       "</style>\n",
       "<table border=\"1\" class=\"dataframe\">\n",
       "  <thead>\n",
       "    <tr style=\"text-align: right;\">\n",
       "      <th></th>\n",
       "      <th>Nome</th>\n",
       "      <th>Quantidade Comprada</th>\n",
       "      <th>Unidade de Medida</th>\n",
       "      <th>Custo Total (R$)</th>\n",
       "      <th>Custo Variável (R$)</th>\n",
       "    </tr>\n",
       "  </thead>\n",
       "  <tbody>\n",
       "    <tr>\n",
       "      <th>0</th>\n",
       "      <td>Carne</td>\n",
       "      <td>10</td>\n",
       "      <td>kg</td>\n",
       "      <td>300</td>\n",
       "      <td>30.0</td>\n",
       "    </tr>\n",
       "    <tr>\n",
       "      <th>1</th>\n",
       "      <td>Batatas</td>\n",
       "      <td>20</td>\n",
       "      <td>kg</td>\n",
       "      <td>60</td>\n",
       "      <td>3.0</td>\n",
       "    </tr>\n",
       "    <tr>\n",
       "      <th>2</th>\n",
       "      <td>Tomates</td>\n",
       "      <td>15</td>\n",
       "      <td>kg</td>\n",
       "      <td>45</td>\n",
       "      <td>3.0</td>\n",
       "    </tr>\n",
       "    <tr>\n",
       "      <th>3</th>\n",
       "      <td>Queijo</td>\n",
       "      <td>5</td>\n",
       "      <td>kg</td>\n",
       "      <td>80</td>\n",
       "      <td>16.0</td>\n",
       "    </tr>\n",
       "    <tr>\n",
       "      <th>4</th>\n",
       "      <td>Frango</td>\n",
       "      <td>10</td>\n",
       "      <td>kg</td>\n",
       "      <td>120</td>\n",
       "      <td>12.0</td>\n",
       "    </tr>\n",
       "  </tbody>\n",
       "</table>\n",
       "</div>"
      ],
      "text/plain": [
       "      Nome  Quantidade Comprada Unidade de Medida  Custo Total (R$)  \\\n",
       "0    Carne                   10                kg               300   \n",
       "1  Batatas                   20                kg                60   \n",
       "2  Tomates                   15                kg                45   \n",
       "3   Queijo                    5                kg                80   \n",
       "4   Frango                   10                kg               120   \n",
       "\n",
       "   Custo Variável (R$)  \n",
       "0                 30.0  \n",
       "1                  3.0  \n",
       "2                  3.0  \n",
       "3                 16.0  \n",
       "4                 12.0  "
      ]
     },
     "execution_count": 213,
     "metadata": {},
     "output_type": "execute_result"
    }
   ],
   "source": [
    "ingredients_df['Custo Variável (R$)'] = ingredients_df['Custo Total (R$)']/ingredients_df['Quantidade Comprada']\n",
    "ingredients_df.head()"
   ]
  },
  {
   "cell_type": "code",
   "execution_count": 214,
   "metadata": {},
   "outputs": [
    {
     "name": "stdout",
     "output_type": "stream",
     "text": [
      "['Carne', 'Pão', 'Alface', 'Tomates', 'Queijo']\n"
     ]
    },
    {
     "data": {
      "text/html": [
       "<div>\n",
       "<style scoped>\n",
       "    .dataframe tbody tr th:only-of-type {\n",
       "        vertical-align: middle;\n",
       "    }\n",
       "\n",
       "    .dataframe tbody tr th {\n",
       "        vertical-align: top;\n",
       "    }\n",
       "\n",
       "    .dataframe thead th {\n",
       "        text-align: right;\n",
       "    }\n",
       "</style>\n",
       "<table border=\"1\" class=\"dataframe\">\n",
       "  <thead>\n",
       "    <tr style=\"text-align: right;\">\n",
       "      <th></th>\n",
       "      <th>Nome</th>\n",
       "      <th>Quantidade Comprada</th>\n",
       "      <th>Unidade de Medida</th>\n",
       "      <th>Custo Total (R$)</th>\n",
       "      <th>Custo Variável (R$)</th>\n",
       "    </tr>\n",
       "  </thead>\n",
       "  <tbody>\n",
       "    <tr>\n",
       "      <th>0</th>\n",
       "      <td>Carne</td>\n",
       "      <td>10</td>\n",
       "      <td>kg</td>\n",
       "      <td>300</td>\n",
       "      <td>30.0</td>\n",
       "    </tr>\n",
       "    <tr>\n",
       "      <th>2</th>\n",
       "      <td>Tomates</td>\n",
       "      <td>15</td>\n",
       "      <td>kg</td>\n",
       "      <td>45</td>\n",
       "      <td>3.0</td>\n",
       "    </tr>\n",
       "    <tr>\n",
       "      <th>3</th>\n",
       "      <td>Queijo</td>\n",
       "      <td>5</td>\n",
       "      <td>kg</td>\n",
       "      <td>80</td>\n",
       "      <td>16.0</td>\n",
       "    </tr>\n",
       "    <tr>\n",
       "      <th>5</th>\n",
       "      <td>Alface</td>\n",
       "      <td>10</td>\n",
       "      <td>unidades</td>\n",
       "      <td>30</td>\n",
       "      <td>3.0</td>\n",
       "    </tr>\n",
       "    <tr>\n",
       "      <th>6</th>\n",
       "      <td>Pão</td>\n",
       "      <td>50</td>\n",
       "      <td>unidades</td>\n",
       "      <td>50</td>\n",
       "      <td>1.0</td>\n",
       "    </tr>\n",
       "  </tbody>\n",
       "</table>\n",
       "</div>"
      ],
      "text/plain": [
       "      Nome  Quantidade Comprada Unidade de Medida  Custo Total (R$)  \\\n",
       "0    Carne                   10                kg               300   \n",
       "2  Tomates                   15                kg                45   \n",
       "3   Queijo                    5                kg                80   \n",
       "5   Alface                   10          unidades                30   \n",
       "6      Pão                   50          unidades                50   \n",
       "\n",
       "   Custo Variável (R$)  \n",
       "0                 30.0  \n",
       "2                  3.0  \n",
       "3                 16.0  \n",
       "5                  3.0  \n",
       "6                  1.0  "
      ]
     },
     "execution_count": 214,
     "metadata": {},
     "output_type": "execute_result"
    }
   ],
   "source": [
    "desiredIngredients = ingredientsInfo['Nome'].tolist()\n",
    "print(desiredIngredients)\n",
    "\n",
    "target = ingredients_df.loc[ingredients_df['Nome'].isin(desiredIngredients)]\n",
    "target"
   ]
  },
  {
   "cell_type": "code",
   "execution_count": 215,
   "metadata": {},
   "outputs": [
    {
     "data": {
      "text/html": [
       "<div>\n",
       "<style scoped>\n",
       "    .dataframe tbody tr th:only-of-type {\n",
       "        vertical-align: middle;\n",
       "    }\n",
       "\n",
       "    .dataframe tbody tr th {\n",
       "        vertical-align: top;\n",
       "    }\n",
       "\n",
       "    .dataframe thead th {\n",
       "        text-align: right;\n",
       "    }\n",
       "</style>\n",
       "<table border=\"1\" class=\"dataframe\">\n",
       "  <thead>\n",
       "    <tr style=\"text-align: right;\">\n",
       "      <th></th>\n",
       "      <th>Nome</th>\n",
       "      <th>Quantidade Comprada</th>\n",
       "      <th>Unidade de Medida</th>\n",
       "      <th>Custo Total (R$)</th>\n",
       "      <th>Custo Variável (R$)</th>\n",
       "      <th>Quantidade/Unidade</th>\n",
       "    </tr>\n",
       "  </thead>\n",
       "  <tbody>\n",
       "    <tr>\n",
       "      <th>0</th>\n",
       "      <td>Carne</td>\n",
       "      <td>10</td>\n",
       "      <td>kg</td>\n",
       "      <td>300</td>\n",
       "      <td>30.0</td>\n",
       "      <td>0.125</td>\n",
       "    </tr>\n",
       "    <tr>\n",
       "      <th>1</th>\n",
       "      <td>Tomates</td>\n",
       "      <td>15</td>\n",
       "      <td>kg</td>\n",
       "      <td>45</td>\n",
       "      <td>3.0</td>\n",
       "      <td>0.050</td>\n",
       "    </tr>\n",
       "    <tr>\n",
       "      <th>2</th>\n",
       "      <td>Queijo</td>\n",
       "      <td>5</td>\n",
       "      <td>kg</td>\n",
       "      <td>80</td>\n",
       "      <td>16.0</td>\n",
       "      <td>0.025</td>\n",
       "    </tr>\n",
       "    <tr>\n",
       "      <th>3</th>\n",
       "      <td>Alface</td>\n",
       "      <td>10</td>\n",
       "      <td>unidades</td>\n",
       "      <td>30</td>\n",
       "      <td>3.0</td>\n",
       "      <td>0.100</td>\n",
       "    </tr>\n",
       "    <tr>\n",
       "      <th>4</th>\n",
       "      <td>Pão</td>\n",
       "      <td>50</td>\n",
       "      <td>unidades</td>\n",
       "      <td>50</td>\n",
       "      <td>1.0</td>\n",
       "      <td>1.000</td>\n",
       "    </tr>\n",
       "  </tbody>\n",
       "</table>\n",
       "</div>"
      ],
      "text/plain": [
       "      Nome  Quantidade Comprada Unidade de Medida  Custo Total (R$)  \\\n",
       "0    Carne                   10                kg               300   \n",
       "1  Tomates                   15                kg                45   \n",
       "2   Queijo                    5                kg                80   \n",
       "3   Alface                   10          unidades                30   \n",
       "4      Pão                   50          unidades                50   \n",
       "\n",
       "   Custo Variável (R$)  Quantidade/Unidade  \n",
       "0                 30.0               0.125  \n",
       "1                  3.0               0.050  \n",
       "2                 16.0               0.025  \n",
       "3                  3.0               0.100  \n",
       "4                  1.0               1.000  "
      ]
     },
     "execution_count": 215,
     "metadata": {},
     "output_type": "execute_result"
    }
   ],
   "source": [
    "target = pd.merge(target, ingredientsInfo[['Nome', 'Quantidade/Unidade']], on='Nome')\n",
    "target"
   ]
  },
  {
   "cell_type": "markdown",
   "metadata": {},
   "source": [
    "- O custo variável vai ser a soma de todos os custos variáveis individuais, ou seja, necessários para fazer 1 unidade daquele item"
   ]
  },
  {
   "cell_type": "code",
   "execution_count": 216,
   "metadata": {},
   "outputs": [
    {
     "data": {
      "text/plain": [
       "5.6"
      ]
     },
     "execution_count": 216,
     "metadata": {},
     "output_type": "execute_result"
    }
   ],
   "source": [
    "custoVariavel = (target['Custo Variável (R$)'] * target['Quantidade/Unidade']).sum()\n",
    "custoVariavel"
   ]
  },
  {
   "cell_type": "markdown",
   "metadata": {},
   "source": [
    "### ENCONTRANDO OS CUSTOS FIXOS"
   ]
  },
  {
   "cell_type": "code",
   "execution_count": 217,
   "metadata": {},
   "outputs": [
    {
     "data": {
      "text/html": [
       "<div>\n",
       "<style scoped>\n",
       "    .dataframe tbody tr th:only-of-type {\n",
       "        vertical-align: middle;\n",
       "    }\n",
       "\n",
       "    .dataframe tbody tr th {\n",
       "        vertical-align: top;\n",
       "    }\n",
       "\n",
       "    .dataframe thead th {\n",
       "        text-align: right;\n",
       "    }\n",
       "</style>\n",
       "<table border=\"1\" class=\"dataframe\">\n",
       "  <thead>\n",
       "    <tr style=\"text-align: right;\">\n",
       "      <th></th>\n",
       "      <th>Descrição do Custo Fixo</th>\n",
       "      <th>Valor Mensal (R$)</th>\n",
       "    </tr>\n",
       "  </thead>\n",
       "  <tbody>\n",
       "    <tr>\n",
       "      <th>0</th>\n",
       "      <td>Aluguel do Espaço</td>\n",
       "      <td>2000</td>\n",
       "    </tr>\n",
       "    <tr>\n",
       "      <th>1</th>\n",
       "      <td>Salários dos Funcionários (incluindo encargos)</td>\n",
       "      <td>4000</td>\n",
       "    </tr>\n",
       "    <tr>\n",
       "      <th>2</th>\n",
       "      <td>Seguro</td>\n",
       "      <td>100</td>\n",
       "    </tr>\n",
       "    <tr>\n",
       "      <th>3</th>\n",
       "      <td>Conta de Energia Elétrica</td>\n",
       "      <td>800</td>\n",
       "    </tr>\n",
       "    <tr>\n",
       "      <th>4</th>\n",
       "      <td>Conta de Água</td>\n",
       "      <td>400</td>\n",
       "    </tr>\n",
       "  </tbody>\n",
       "</table>\n",
       "</div>"
      ],
      "text/plain": [
       "                          Descrição do Custo Fixo  Valor Mensal (R$)\n",
       "0                               Aluguel do Espaço               2000\n",
       "1  Salários dos Funcionários (incluindo encargos)               4000\n",
       "2                                          Seguro                100\n",
       "3                       Conta de Energia Elétrica                800\n",
       "4                                   Conta de Água                400"
      ]
     },
     "execution_count": 217,
     "metadata": {},
     "output_type": "execute_result"
    }
   ],
   "source": [
    "fix_df = pd.read_excel('Products.xlsx', 'CustosFixos')\n",
    "fix_df.head()"
   ]
  },
  {
   "cell_type": "code",
   "execution_count": 218,
   "metadata": {},
   "outputs": [
    {
     "data": {
      "text/plain": [
       "9950"
      ]
     },
     "execution_count": 218,
     "metadata": {},
     "output_type": "execute_result"
    }
   ],
   "source": [
    "custoFixoTotal = fix_df['Valor Mensal (R$)'].sum()\n",
    "custoFixoTotal"
   ]
  },
  {
   "cell_type": "markdown",
   "metadata": {},
   "source": [
    "- Agora precisamos dividir os custos totais entre os produtos (pratos) para encontrarmos o preço que cada 1 deve ter. \n",
    "\n",
    "- Uma abordagem é dividir os custos fixos proporcionalmente com base na receita ou no volume de vendas de cada produto.\n",
    "\n",
    "- Ex: Se um produto representa 30% da receita total, ele seria alocado com 30% dos custos fixos. Para fazer isso, vamos usar uma pequena amostra de vendas anteriores"
   ]
  },
  {
   "cell_type": "code",
   "execution_count": 219,
   "metadata": {},
   "outputs": [
    {
     "data": {
      "text/html": [
       "<div>\n",
       "<style scoped>\n",
       "    .dataframe tbody tr th:only-of-type {\n",
       "        vertical-align: middle;\n",
       "    }\n",
       "\n",
       "    .dataframe tbody tr th {\n",
       "        vertical-align: top;\n",
       "    }\n",
       "\n",
       "    .dataframe thead th {\n",
       "        text-align: right;\n",
       "    }\n",
       "</style>\n",
       "<table border=\"1\" class=\"dataframe\">\n",
       "  <thead>\n",
       "    <tr style=\"text-align: right;\">\n",
       "      <th></th>\n",
       "      <th>Nome do Prato</th>\n",
       "      <th>Preço Vendido (R$)</th>\n",
       "      <th>Data da Venda</th>\n",
       "      <th>Hora da Venda</th>\n",
       "    </tr>\n",
       "  </thead>\n",
       "  <tbody>\n",
       "    <tr>\n",
       "      <th>0</th>\n",
       "      <td>Pizza</td>\n",
       "      <td>30</td>\n",
       "      <td>2024-01-03</td>\n",
       "      <td>19:00:00</td>\n",
       "    </tr>\n",
       "    <tr>\n",
       "      <th>1</th>\n",
       "      <td>Salada Caesar</td>\n",
       "      <td>28</td>\n",
       "      <td>2024-01-03</td>\n",
       "      <td>19:30:00</td>\n",
       "    </tr>\n",
       "    <tr>\n",
       "      <th>2</th>\n",
       "      <td>Pizza</td>\n",
       "      <td>28</td>\n",
       "      <td>2024-01-03</td>\n",
       "      <td>19:45:00</td>\n",
       "    </tr>\n",
       "    <tr>\n",
       "      <th>3</th>\n",
       "      <td>Risoto de Camarão</td>\n",
       "      <td>40</td>\n",
       "      <td>2024-01-03</td>\n",
       "      <td>20:00:00</td>\n",
       "    </tr>\n",
       "    <tr>\n",
       "      <th>4</th>\n",
       "      <td>Hambúrguer</td>\n",
       "      <td>22</td>\n",
       "      <td>2024-01-03</td>\n",
       "      <td>20:15:00</td>\n",
       "    </tr>\n",
       "  </tbody>\n",
       "</table>\n",
       "</div>"
      ],
      "text/plain": [
       "       Nome do Prato  Preço Vendido (R$) Data da Venda Hora da Venda\n",
       "0              Pizza                  30    2024-01-03      19:00:00\n",
       "1      Salada Caesar                  28    2024-01-03      19:30:00\n",
       "2              Pizza                  28    2024-01-03      19:45:00\n",
       "3  Risoto de Camarão                  40    2024-01-03      20:00:00\n",
       "4         Hambúrguer                  22    2024-01-03      20:15:00"
      ]
     },
     "execution_count": 219,
     "metadata": {},
     "output_type": "execute_result"
    }
   ],
   "source": [
    "sales_df = pd.read_excel('Products.xlsx', sheet_name='Vendas')\n",
    "sales_df.head()"
   ]
  },
  {
   "cell_type": "code",
   "execution_count": 220,
   "metadata": {},
   "outputs": [
    {
     "data": {
      "text/plain": [
       "0.10835058661145618"
      ]
     },
     "execution_count": 220,
     "metadata": {},
     "output_type": "execute_result"
    }
   ],
   "source": [
    "totalIncome  = sales_df['Preço Vendido (R$)'].sum()\n",
    "targetIncome = sales_df.loc[sales_df['Nome do Prato'] == desiredProduct]['Preço Vendido (R$)'].sum()\n",
    "\n",
    "percentageIncome = targetIncome/totalIncome\n",
    "percentageIncome"
   ]
  },
  {
   "cell_type": "markdown",
   "metadata": {},
   "source": [
    "- Isso significa que 11% da receita total do restaurante vem desse prato, então o custo fixo para esse prato deve ser 11% do custo fixo total"
   ]
  },
  {
   "cell_type": "code",
   "execution_count": 221,
   "metadata": {},
   "outputs": [
    {
     "data": {
      "text/plain": [
       "1078.088336783989"
      ]
     },
     "execution_count": 221,
     "metadata": {},
     "output_type": "execute_result"
    }
   ],
   "source": [
    "custoFixo = custoFixoTotal*percentageIncome\n",
    "custoFixo"
   ]
  },
  {
   "cell_type": "markdown",
   "metadata": {},
   "source": [
    "### PONTO DE EQUILÍBRIO (BREAK POINT)\n",
    "- O ponto de equilíbrio ocorre quando o total de receitas iguala o total de custos (fixos e variáveis), o que significa que não há lucro nem prejuízo. Ou seja, significa que $L(p, q) = 0$\n",
    "\n",
    "$$0 = p\\cdot q - q \\cdot C_V - C_{F}$$\n",
    "\n",
    "$$q = \\frac{C_F}{p - C_V}$$\n",
    "\n",
    "- Para encontrar o preço do produto $p$, vamos considerar a média dos preços já vendidos, ou o preço de mercado caso não tenha vendido ainda"
   ]
  },
  {
   "cell_type": "code",
   "execution_count": 222,
   "metadata": {},
   "outputs": [
    {
     "data": {
      "text/plain": [
       "22"
      ]
     },
     "execution_count": 222,
     "metadata": {},
     "output_type": "execute_result"
    }
   ],
   "source": [
    "p = sales_df.loc[sales_df['Nome do Prato'] == desiredProduct]['Preço Vendido (R$)'].max()\n",
    "p"
   ]
  },
  {
   "cell_type": "code",
   "execution_count": 223,
   "metadata": {},
   "outputs": [
    {
     "data": {
      "text/plain": [
       "65.7370937063408"
      ]
     },
     "execution_count": 223,
     "metadata": {},
     "output_type": "execute_result"
    }
   ],
   "source": [
    "def qBreakpoint(p, Cv, Cf):\n",
    "    return Cf / (p - Cv)\n",
    "\n",
    "qBreakpoint(p, custoVariavel, custoFixo)"
   ]
  },
  {
   "cell_type": "markdown",
   "metadata": {},
   "source": [
    "- Ou seja, precisamos vender no mínimo $q=66$ unidades ao preço de $p=22$ para obter algum lucro"
   ]
  },
  {
   "cell_type": "markdown",
   "metadata": {},
   "source": [
    "### ELASTICIDADE PREÇO DA DEMANDA\n",
    "- A elasticidade-preço da demanda $\\epsilon$ é uma medida que indica como a quantidade demandada de um produto ou serviço responde a mudanças no preço.\n",
    "\n",
    "$$\\epsilon = \\frac{\\triangle Q \\%}{\\triangle P \\%} = \\frac{\\frac{Q-Q_0}{Q_0}}{\\frac{P-P_0}{P_0}}$$\n",
    "\n",
    "- Onde $Q$ e $Q_0$ são respectivamente a quantidade inicial e final vendidas a partir de uma variação de preço de $P_0$ para $P$\n",
    "\n",
    "- Quando $|\\epsilon| > 1$, a demanda é elástica, ou seja, o produto é sensível à variações de preço, e se eu aumentar um pouquinho o preço, isso irá refletir em menos pessoas comprando o produto, e portanto, uma arrecadação menor na receita. Se for menor do que 1, a demanda é inelástica, ou seja, posso aumentar mais o preço que as pessoas não vão deixar de comprar (significativamente)\n"
   ]
  },
  {
   "cell_type": "code",
   "execution_count": 224,
   "metadata": {},
   "outputs": [
    {
     "data": {
      "text/html": [
       "<div>\n",
       "<style scoped>\n",
       "    .dataframe tbody tr th:only-of-type {\n",
       "        vertical-align: middle;\n",
       "    }\n",
       "\n",
       "    .dataframe tbody tr th {\n",
       "        vertical-align: top;\n",
       "    }\n",
       "\n",
       "    .dataframe thead th {\n",
       "        text-align: right;\n",
       "    }\n",
       "</style>\n",
       "<table border=\"1\" class=\"dataframe\">\n",
       "  <thead>\n",
       "    <tr style=\"text-align: right;\">\n",
       "      <th></th>\n",
       "      <th>Nome do Prato</th>\n",
       "      <th>Preço Vendido (R$)</th>\n",
       "      <th>Data da Venda</th>\n",
       "      <th>Hora da Venda</th>\n",
       "    </tr>\n",
       "  </thead>\n",
       "  <tbody>\n",
       "    <tr>\n",
       "      <th>4</th>\n",
       "      <td>Hambúrguer</td>\n",
       "      <td>22</td>\n",
       "      <td>2024-01-03</td>\n",
       "      <td>20:15:00</td>\n",
       "    </tr>\n",
       "    <tr>\n",
       "      <th>13</th>\n",
       "      <td>Hambúrguer</td>\n",
       "      <td>22</td>\n",
       "      <td>2024-01-05</td>\n",
       "      <td>19:30:00</td>\n",
       "    </tr>\n",
       "    <tr>\n",
       "      <th>20</th>\n",
       "      <td>Hambúrguer</td>\n",
       "      <td>20</td>\n",
       "      <td>2024-01-06</td>\n",
       "      <td>13:00:00</td>\n",
       "    </tr>\n",
       "    <tr>\n",
       "      <th>25</th>\n",
       "      <td>Hambúrguer</td>\n",
       "      <td>20</td>\n",
       "      <td>2024-01-06</td>\n",
       "      <td>18:45:00</td>\n",
       "    </tr>\n",
       "    <tr>\n",
       "      <th>30</th>\n",
       "      <td>Hambúrguer</td>\n",
       "      <td>20</td>\n",
       "      <td>2024-01-03</td>\n",
       "      <td>19:15:00</td>\n",
       "    </tr>\n",
       "  </tbody>\n",
       "</table>\n",
       "</div>"
      ],
      "text/plain": [
       "   Nome do Prato  Preço Vendido (R$) Data da Venda Hora da Venda\n",
       "4     Hambúrguer                  22    2024-01-03      20:15:00\n",
       "13    Hambúrguer                  22    2024-01-05      19:30:00\n",
       "20    Hambúrguer                  20    2024-01-06      13:00:00\n",
       "25    Hambúrguer                  20    2024-01-06      18:45:00\n",
       "30    Hambúrguer                  20    2024-01-03      19:15:00"
      ]
     },
     "execution_count": 224,
     "metadata": {},
     "output_type": "execute_result"
    }
   ],
   "source": [
    "target = sales_df.loc[sales_df['Nome do Prato'] == desiredProduct]\n",
    "target.head()"
   ]
  },
  {
   "cell_type": "code",
   "execution_count": 225,
   "metadata": {},
   "outputs": [],
   "source": [
    "P0 = target['Preço Vendido (R$)'].min()\n",
    "P  = target['Preço Vendido (R$)'].max()\n",
    "\n",
    "Q0 = (target['Preço Vendido (R$)'] == P0).sum()\n",
    "Q = (target['Preço Vendido (R$)'] == P).sum()"
   ]
  },
  {
   "cell_type": "code",
   "execution_count": 226,
   "metadata": {},
   "outputs": [
    {
     "data": {
      "text/plain": [
       "(20, 8, 22, 7)"
      ]
     },
     "execution_count": 226,
     "metadata": {},
     "output_type": "execute_result"
    }
   ],
   "source": [
    "(P0, Q0, P, Q)"
   ]
  },
  {
   "cell_type": "code",
   "execution_count": 227,
   "metadata": {},
   "outputs": [
    {
     "data": {
      "text/plain": [
       "-1.25"
      ]
     },
     "execution_count": 227,
     "metadata": {},
     "output_type": "execute_result"
    }
   ],
   "source": [
    "def elasticidade(Q0, Q, P0, P):\n",
    "    return ((Q-Q0)/Q0) / ((P-P0)/P0)\n",
    "\n",
    "e = elasticidade(Q0, Q, P0, P)\n",
    "e"
   ]
  },
  {
   "cell_type": "markdown",
   "metadata": {},
   "source": [
    "- Então temos que a demanda desse produto é elástica, não podemos aumentar o preço, deixa em 20 mermo que ta bom"
   ]
  },
  {
   "cell_type": "markdown",
   "metadata": {},
   "source": [
    "### LUCRO MÁXIMO\n",
    "Para encontrar o lucro máximo, primeiro precisamos encontrar a fórmula do lucro\n",
    "$$L(p, q) = p\\cdot q - q\\cdot C_{VI} - C_{FI}$$\n",
    "\n",
    "Precisamos fazer com que L seja uma função só de $p$ para podermos encontrar o preço desejado para o produto que vamos vender, e assim também a quantidade. Ou seja, precisamos encontrar $q(p)$, como temos poucos pontos, o mais geral é a aproximar por uma função linear"
   ]
  },
  {
   "cell_type": "code",
   "execution_count": 228,
   "metadata": {},
   "outputs": [
    {
     "name": "stdout",
     "output_type": "stream",
     "text": [
      "[22 20] [7, 8]\n"
     ]
    }
   ],
   "source": [
    "target = sales_df.loc[sales_df['Nome do Prato'] == desiredProduct]\n",
    "\n",
    "prices     = target['Preço Vendido (R$)'].unique()\n",
    "quantities = [(target['Preço Vendido (R$)'] == price).sum() for price in prices]\n",
    "\n",
    "print(prices, quantities) # x e y, q(p)"
   ]
  },
  {
   "cell_type": "code",
   "execution_count": 229,
   "metadata": {},
   "outputs": [
    {
     "data": {
      "text/latex": [
       "$\\displaystyle 18.0 - 0.5 p$"
      ],
      "text/plain": [
       "18.0 - 0.5*p"
      ]
     },
     "execution_count": 229,
     "metadata": {},
     "output_type": "execute_result"
    }
   ],
   "source": [
    "def curveFit(xData, yData, function):\n",
    "    coef = curve_fit(function, xData, yData, maxfev=2100000000)\n",
    "    return list(coef[0])\n",
    "\n",
    "def q_generic(p, a, b):\n",
    "    return a*p + b\n",
    "\n",
    "p = sp.var('p')\n",
    "Q = q_generic(p, *curveFit(xData=prices, yData=quantities, function=q_generic))\n",
    "\n",
    "Q"
   ]
  },
  {
   "cell_type": "code",
   "execution_count": 230,
   "metadata": {},
   "outputs": [
    {
     "data": {
      "text/latex": [
       "$\\displaystyle p \\left(18.0 - 0.5 p\\right) + 2.8 p - 1178.88833678399$"
      ],
      "text/plain": [
       "p*(18.0 - 0.5*p) + 2.8*p - 1178.88833678399"
      ]
     },
     "execution_count": 230,
     "metadata": {},
     "output_type": "execute_result"
    }
   ],
   "source": [
    "L = p*Q - Q * custoVariavel - custoFixo\n",
    "L"
   ]
  },
  {
   "cell_type": "code",
   "execution_count": 231,
   "metadata": {},
   "outputs": [],
   "source": [
    "xData = np.linspace(0, 40, 1000)\n",
    "yData = sp.lambdify(p, L, modules='numpy')(xData)"
   ]
  },
  {
   "cell_type": "code",
   "execution_count": 232,
   "metadata": {},
   "outputs": [
    {
     "data": {
      "image/png": "[encoded data removed]",
      "text/plain": [
       "<Figure size 500x300 with 1 Axes>"
      ]
     },
     "metadata": {},
     "output_type": "display_data"
    }
   ],
   "source": [
    "plt.figure(figsize=(5, 3))\n",
    "plt.plot(xData, yData)\n",
    "\n",
    "plt.ylim(min(yData), max(yData)+20)\n",
    "plt.show()"
   ]
  },
  {
   "cell_type": "code",
   "execution_count": 233,
   "metadata": {},
   "outputs": [
    {
     "data": {
      "text/plain": [
       "(-962.5685214731839, array([20.78078078]))"
      ]
     },
     "execution_count": 233,
     "metadata": {},
     "output_type": "execute_result"
    }
   ],
   "source": [
    "lucroMaximo = max(yData)\n",
    "quantidade  = xData[yData == lucroMaximo]\n",
    "\n",
    "lucroMaximo, quantidade"
   ]
  },
  {
   "cell_type": "markdown",
   "metadata": {},
   "source": [
    "- Isso faz sentido? o lucro máximo está dando negativo\n",
    "\n",
    "- Sim, como calculamos anteriormente, precisariamos vender $q=66$ unidades desse produto a $p=22$ reais para ter um lucro positivo. Entretanto, pelo comportamento observado na elasticidade-demanda, conforme vamos aumentando o peço as pessoas vão parando de comprar e a quantidade $q$ diminiu. De forma que nunca vamos conseguir vender $q=66$ com $p=22$, já que nesse preço, a quantidade máxima comprada seria de:"
   ]
  },
  {
   "cell_type": "code",
   "execution_count": 234,
   "metadata": {},
   "outputs": [
    {
     "data": {
      "text/latex": [
       "$\\displaystyle 7.0$"
      ],
      "text/plain": [
       "7.00000000000000"
      ]
     },
     "execution_count": 234,
     "metadata": {},
     "output_type": "execute_result"
    }
   ],
   "source": [
    "Q.subs(p, 22)"
   ]
  },
  {
   "cell_type": "markdown",
   "metadata": {},
   "source": [
    "E isso não é 22, que é o mínimo para ter lucro. Ou seja, esse produto nunca vai dar lucro, pare de vendê-lo"
   ]
  },
  {
   "cell_type": "markdown",
   "metadata": {},
   "source": [
    "### CUSTO MARGINAL\n",
    "- Aumentar a produção de certo produto irá também aumentar o custo para produzi-lo, mas nem sempre essa relação é linear, o que significa que talvez o custo aumente muito para um pequeno aumento na quantidade produzido, afetando negativamente o lucro. \n",
    "\n",
    "- Os custos que podem aumentar são, por exemplo, contas de luz, contas de água, máquinário novo, novos funcionários, ETC. Todos esses novos custos foram inclusos na coluna de \"Custo Extra\", como mostrado abaixo\n",
    "\n",
    "$$L(p, q) = p\\cdot q - C_V - C_{VE}(q) - C_F$$\n",
    "\n",
    "- Onde $C_{VE}$ é o custo variável extra para uma certa quantidade de produção $q$, então é preciso encontrar a função $C_{VE}(q)$"
   ]
  },
  {
   "cell_type": "code",
   "execution_count": 235,
   "metadata": {},
   "outputs": [
    {
     "data": {
      "text/html": [
       "<div>\n",
       "<style scoped>\n",
       "    .dataframe tbody tr th:only-of-type {\n",
       "        vertical-align: middle;\n",
       "    }\n",
       "\n",
       "    .dataframe tbody tr th {\n",
       "        vertical-align: top;\n",
       "    }\n",
       "\n",
       "    .dataframe thead th {\n",
       "        text-align: right;\n",
       "    }\n",
       "</style>\n",
       "<table border=\"1\" class=\"dataframe\">\n",
       "  <thead>\n",
       "    <tr style=\"text-align: right;\">\n",
       "      <th></th>\n",
       "      <th>Nome do Prato</th>\n",
       "      <th>Quantidade Produzida</th>\n",
       "      <th>Custos Extras (R$)</th>\n",
       "    </tr>\n",
       "  </thead>\n",
       "  <tbody>\n",
       "    <tr>\n",
       "      <th>21</th>\n",
       "      <td>Salada Simples</td>\n",
       "      <td>300</td>\n",
       "      <td>23123</td>\n",
       "    </tr>\n",
       "    <tr>\n",
       "      <th>22</th>\n",
       "      <td>Sanduíche Vegetariano</td>\n",
       "      <td>300</td>\n",
       "      <td>543</td>\n",
       "    </tr>\n",
       "    <tr>\n",
       "      <th>23</th>\n",
       "      <td>Salada de Arroz</td>\n",
       "      <td>300</td>\n",
       "      <td>32432</td>\n",
       "    </tr>\n",
       "    <tr>\n",
       "      <th>24</th>\n",
       "      <td>Bruschetta</td>\n",
       "      <td>300</td>\n",
       "      <td>323</td>\n",
       "    </tr>\n",
       "    <tr>\n",
       "      <th>25</th>\n",
       "      <td>Omelete</td>\n",
       "      <td>300</td>\n",
       "      <td>43223</td>\n",
       "    </tr>\n",
       "  </tbody>\n",
       "</table>\n",
       "</div>"
      ],
      "text/plain": [
       "            Nome do Prato  Quantidade Produzida  Custos Extras (R$)\n",
       "21         Salada Simples                   300               23123\n",
       "22  Sanduíche Vegetariano                   300                 543\n",
       "23        Salada de Arroz                   300               32432\n",
       "24             Bruschetta                   300                 323\n",
       "25                Omelete                   300               43223"
      ]
     },
     "execution_count": 235,
     "metadata": {},
     "output_type": "execute_result"
    }
   ],
   "source": [
    "extra_expenses = pd.read_excel('Products.xlsx', sheet_name='CustosExtras')\n",
    "extra_expenses[-5:].head()"
   ]
  },
  {
   "cell_type": "code",
   "execution_count": 236,
   "metadata": {},
   "outputs": [
    {
     "data": {
      "text/html": [
       "<div>\n",
       "<style scoped>\n",
       "    .dataframe tbody tr th:only-of-type {\n",
       "        vertical-align: middle;\n",
       "    }\n",
       "\n",
       "    .dataframe tbody tr th {\n",
       "        vertical-align: top;\n",
       "    }\n",
       "\n",
       "    .dataframe thead th {\n",
       "        text-align: right;\n",
       "    }\n",
       "</style>\n",
       "<table border=\"1\" class=\"dataframe\">\n",
       "  <thead>\n",
       "    <tr style=\"text-align: right;\">\n",
       "      <th></th>\n",
       "      <th>Nome do Prato</th>\n",
       "      <th>Quantidade Produzida</th>\n",
       "      <th>Custos Extras (R$)</th>\n",
       "    </tr>\n",
       "  </thead>\n",
       "  <tbody>\n",
       "    <tr>\n",
       "      <th>1</th>\n",
       "      <td>Hambúrguer</td>\n",
       "      <td>100</td>\n",
       "      <td>0</td>\n",
       "    </tr>\n",
       "    <tr>\n",
       "      <th>14</th>\n",
       "      <td>Hambúrguer</td>\n",
       "      <td>300</td>\n",
       "      <td>300</td>\n",
       "    </tr>\n",
       "  </tbody>\n",
       "</table>\n",
       "</div>"
      ],
      "text/plain": [
       "   Nome do Prato  Quantidade Produzida  Custos Extras (R$)\n",
       "1     Hambúrguer                   100                   0\n",
       "14    Hambúrguer                   300                 300"
      ]
     },
     "execution_count": 236,
     "metadata": {},
     "output_type": "execute_result"
    }
   ],
   "source": [
    "target = extra_expenses.loc[extra_expenses['Nome do Prato'] == desiredProduct]\n",
    "target"
   ]
  },
  {
   "cell_type": "markdown",
   "metadata": {},
   "source": [
    "- PComo não podemos obter valores negativos, não podemos usar a função linear dessa vez, então a função genérica almejada será:\n",
    "\n",
    "$$y(x) = a\\cdot b^{x-c}$$\n",
    "\n",
    "Como só temos dois pontos, vamos adicionar o ponto $y(0) = 0$ já que sabemos que $Cv$ não pode ser negativo para $q=0$"
   ]
  },
  {
   "cell_type": "code",
   "execution_count": 237,
   "metadata": {},
   "outputs": [
    {
     "data": {
      "text/latex": [
       "$\\displaystyle 0.0015811759788289 \\cdot 1.10678835068126^{q - 180.218054525619}$"
      ],
      "text/plain": [
       "0.0015811759788289*1.10678835068126**(q - 180.218054525619)"
      ]
     },
     "metadata": {},
     "output_type": "display_data"
    },
    {
     "name": "stdout",
     "output_type": "stream",
     "text": [
      "1.81028701120349e-11 4.61535780352436e-7 299.999999998385\n"
     ]
    }
   ],
   "source": [
    "def Cve_generic(q, a, b, c):\n",
    "    return a*b**(q-c)\n",
    "\n",
    "q = sp.var('q')\n",
    "\n",
    "xData = [0] + target['Quantidade Produzida'].tolist()\n",
    "yData = [0] + target['Custos Extras (R$)'].tolist()\n",
    "\n",
    "Cve = Cve_generic(q, *curveFit(xData, yData, function=Cve_generic))\n",
    "\n",
    "display(Cve)\n",
    "print(Cve.subs(q, 0), Cve.subs(q, 100), Cve.subs(q, 300))"
   ]
  },
  {
   "cell_type": "code",
   "execution_count": 238,
   "metadata": {},
   "outputs": [
    {
     "data": {
      "text/latex": [
       "$\\displaystyle 18.0 - 0.5 p$"
      ],
      "text/plain": [
       "18.0 - 0.5*p"
      ]
     },
     "metadata": {},
     "output_type": "display_data"
    },
    {
     "data": {
      "text/latex": [
       "$\\displaystyle 0.0015811759788289 \\cdot 1.10678835068126^{- 0.5 p - 162.218054525619}$"
      ],
      "text/plain": [
       "0.0015811759788289*1.10678835068126**(-0.5*p - 162.218054525619)"
      ]
     },
     "metadata": {},
     "output_type": "display_data"
    }
   ],
   "source": [
    "Cve = Cve.subs(q, Q)\n",
    "\n",
    "display(Q)\n",
    "display(Cve)"
   ]
  },
  {
   "cell_type": "code",
   "execution_count": 239,
   "metadata": {},
   "outputs": [
    {
     "data": {
      "text/latex": [
       "$\\displaystyle - 0.0015811759788289 \\cdot 1.10678835068126^{- 0.5 p - 162.218054525619} + p \\left(18.0 - 0.5 p\\right) + 2.8 p - 1178.88833678399$"
      ],
      "text/plain": [
       "-0.0015811759788289*1.10678835068126**(-0.5*p - 162.218054525619) + p*(18.0 - 0.5*p) + 2.8*p - 1178.88833678399"
      ]
     },
     "execution_count": 239,
     "metadata": {},
     "output_type": "execute_result"
    }
   ],
   "source": [
    "L = p*Q - custoVariavel*Q - Cve - custoFixo\n",
    "L"
   ]
  },
  {
   "cell_type": "code",
   "execution_count": 240,
   "metadata": {},
   "outputs": [
    {
     "data": {
      "text/plain": [
       "[<matplotlib.lines.Line2D at 0x7fb61d165c90>]"
      ]
     },
     "execution_count": 240,
     "metadata": {},
     "output_type": "execute_result"
    },
    {
     "data": {
      "image/png": "[encoded data removed]",
      "text/plain": [
       "<Figure size 400x200 with 1 Axes>"
      ]
     },
     "metadata": {},
     "output_type": "display_data"
    }
   ],
   "source": [
    "f = sp.lambdify(p, L, modules='numpy')\n",
    "\n",
    "xData = np.linspace(1, 40, 1000)\n",
    "yData = [f(x) for x in xData]\n",
    "\n",
    "plt.figure(figsize=(4, 2))\n",
    "plt.plot(xData, yData)"
   ]
  },
  {
   "cell_type": "code",
   "execution_count": 241,
   "metadata": {},
   "outputs": [
    {
     "data": {
      "text/plain": [
       "(-962.5683627559472, array([20.79279279]))"
      ]
     },
     "execution_count": 241,
     "metadata": {},
     "output_type": "execute_result"
    }
   ],
   "source": [
    "lucroMaximo = max(yData)\n",
    "quantidade  = xData[yData == lucroMaximo]\n",
    "\n",
    "lucroMaximo, quantidade"
   ]
  }
 ],
 "metadata": {
  "kernelspec": {
   "display_name": "Python 3",
   "language": "python",
   "name": "python3"
  },
  "language_info": {
   "codemirror_mode": {
    "name": "ipython",
    "version": 3
   },
   "file_extension": ".py",
   "mimetype": "text/x-python",
   "name": "python",
   "nbconvert_exporter": "python",
   "pygments_lexer": "ipython3",
   "version": "3.10.12"
  }
 },
 "nbformat": 4,
 "nbformat_minor": 2
}
